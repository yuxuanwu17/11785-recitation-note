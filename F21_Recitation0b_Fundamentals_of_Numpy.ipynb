{
  "nbformat": 4,
  "nbformat_minor": 0,
  "metadata": {
    "colab": {
      "name": "F21 - Recitation0b - Fundamentals_of_Numpy.ipynb",
      "provenance": [],
      "collapsed_sections": [
        "CTJmCIlu-6jO"
      ]
    },
    "kernelspec": {
      "name": "python3",
      "display_name": "Python 3"
    },
    "language_info": {
      "name": "python"
    }
  },
  "cells": [
    {
      "cell_type": "markdown",
      "metadata": {
        "id": "loZ63Om16QA8"
      },
      "source": [
        "# Recitation0b-NumPy\n",
        "## Contents\n",
        "1. Installation\n",
        "2. Initialization\n",
        "3. Accessing and modifying data\n",
        "4. Pivoting data\n",
        "5. Combining data\n",
        "6. Math operations"
      ]
    },
    {
      "cell_type": "markdown",
      "metadata": {
        "id": "4dDmfMwy670N"
      },
      "source": [
        "# 1. Installation\n",
        "Generally NumPy is pre-installed on CoLab/AWS. You should first check if NumPy is available and its version.\n",
        "\n",
        "To manually install Numpy, please follow the instructions below."
      ]
    },
    {
      "cell_type": "code",
      "metadata": {
        "id": "3heYhmvK7d-Z",
        "colab": {
          "base_uri": "https://localhost:8080/"
        },
        "outputId": "fc3dad9c-b329-4a72-d207-fedbba84abf8"
      },
      "source": [
        "# Check the installation of NumPy\n",
        "!pip show numpy\n",
        "\n",
        "# Install NumPy\n",
        "!pip install numpy"
      ],
      "execution_count": null,
      "outputs": [
        {
          "output_type": "stream",
          "text": [
            "Name: numpy\n",
            "Version: 1.19.5\n",
            "Summary: NumPy is the fundamental package for array computing with Python.\n",
            "Home-page: https://www.numpy.org\n",
            "Author: Travis E. Oliphant et al.\n",
            "Author-email: None\n",
            "License: BSD\n",
            "Location: /usr/local/lib/python3.7/dist-packages\n",
            "Requires: \n",
            "Required-by: yellowbrick, xgboost, xarray, wordcloud, torchvision, torchtext, tifffile, thinc, Theano-PyMC, tensorflow, tensorflow-probability, tensorflow-hub, tensorflow-datasets, tensorboard, tables, statsmodels, spacy, sklearn-pandas, seaborn, scs, scipy, scikit-learn, resampy, qdldl, PyWavelets, python-louvain, pystan, pysndfile, pymc3, pyerfa, pyemd, pyarrow, plotnine, patsy, pandas, osqp, opt-einsum, opencv-python, opencv-contrib-python, numexpr, numba, nibabel, netCDF4, moviepy, mlxtend, mizani, missingno, matplotlib, matplotlib-venn, lightgbm, librosa, Keras, Keras-Preprocessing, kapre, jpeg4py, jaxlib, jax, imgaug, imbalanced-learn, imageio, hyperopt, holoviews, h5py, gym, gensim, folium, fix-yahoo-finance, fbprophet, fastprogress, fastdtw, fastai, fa2, ecos, daft, cvxpy, cufflinks, cmdstanpy, cftime, Bottleneck, bokeh, blis, autograd, atari-py, astropy, arviz, altair, albumentations\n",
            "^C\n"
          ],
          "name": "stdout"
        }
      ]
    },
    {
      "cell_type": "code",
      "metadata": {
        "id": "wTW-VKUc7wDn"
      },
      "source": [
        "# Import the NumPy \n",
        "import numpy as np\n",
        "\n",
        "# set the randomization seed\n",
        "np.random.seed(0)"
      ],
      "execution_count": null,
      "outputs": []
    },
    {
      "cell_type": "markdown",
      "metadata": {
        "id": "pe99Qb1M8LJ6"
      },
      "source": [
        "# 2. Initialization\n"
      ]
    },
    {
      "cell_type": "markdown",
      "metadata": {
        "id": "f0Hznd64893f"
      },
      "source": [
        "Initialize new NumPy arrays"
      ]
    },
    {
      "cell_type": "markdown",
      "metadata": {
        "id": "mRG9AhXkXXAJ"
      },
      "source": [
        "## a. Create an empty array/ zeros array/ ones array"
      ]
    },
    {
      "cell_type": "code",
      "metadata": {
        "id": "hxa3gpMk8K0E",
        "colab": {
          "base_uri": "https://localhost:8080/"
        },
        "outputId": "f7b904b5-b97c-4111-9f41-e7b6b95dc665"
      },
      "source": [
        "# initialize an empty array with size 2 x 2\n",
        "empty_arr = np.empty((2, 2))\n",
        "print(\"An empty array is \\n\", empty_arr, \" with dimensions \", empty_arr.shape, \"\\n\")\n",
        "\n",
        "# initialize an all zero array with size 2 x 3\n",
        "zeros_arr = np.zeros((2, 3))\n",
        "print(\"A zeros array is \\n\", zeros_arr, \" with dimensions \", zeros_arr.shape, \"\\n\")\n",
        "\n",
        "# initialize an all one array with size 4 x 2\n",
        "ones_arr = np.ones((4, 2))\n",
        "print(\"A ones array is \\n\", ones_arr, \" with dimensions \", ones_arr.shape, \"\\n\")\n",
        "\n",
        "# return a new array of given shape and type, filled with fill_value\n",
        "tens_arr = np.full((2,2), 10)\n",
        "print(\"A filled array is \\n\", tens_arr, \" with dimensions \", tens_arr.shape, \"\\n\")\n",
        "\n",
        "# return an array of zeros with the same shape and type as a given array\n",
        "zeros_like_arr = np.zeros_like(ones_arr)\n",
        "print(\"A zero like array is \\n\", zeros_like_arr, \" with dimensions \", zeros_like_arr.shape, \"\\n\")\n",
        "\n",
        "# return an array of ones with the same shape and type as a given array\n",
        "ones_like_arr = np.ones_like(zeros_arr)\n",
        "print(\"A ones like array is \\n\", ones_like_arr, \" with dimensions \", ones_like_arr.shape, \"\\n\")\n",
        "\n",
        "# Return a full array with the same shape and type as a given array.\n",
        "full_like_arr = np.full_like(zeros_arr, 0.1, dtype=np.double)\n",
        "print(\"A full like array is \\n\", full_like_arr, \" with dimensions \", full_like_arr.shape, \"\\n\")"
      ],
      "execution_count": null,
      "outputs": [
        {
          "output_type": "stream",
          "text": [
            "An empty array is \n",
            " [[5.e-324 5.e-324]\n",
            " [5.e-324 0.e+000]]  with dimensions  (2, 2) \n",
            "\n",
            "A zeros array is \n",
            " [[0. 0. 0.]\n",
            " [0. 0. 0.]]  with dimensions  (2, 3) \n",
            "\n",
            "A ones array is \n",
            " [[1. 1.]\n",
            " [1. 1.]\n",
            " [1. 1.]\n",
            " [1. 1.]]  with dimensions  (4, 2) \n",
            "\n",
            "A filled array is \n",
            " [[10 10]\n",
            " [10 10]]  with dimensions  (2, 2) \n",
            "\n",
            "A zero like array is \n",
            " [[0. 0.]\n",
            " [0. 0.]\n",
            " [0. 0.]\n",
            " [0. 0.]]  with dimensions  (4, 2) \n",
            "\n",
            "A ones like array is \n",
            " [[1. 1. 1.]\n",
            " [1. 1. 1.]]  with dimensions  (2, 3) \n",
            "\n",
            "A full like array is \n",
            " [[0.1 0.1 0.1]\n",
            " [0.1 0.1 0.1]]  with dimensions  (2, 3) \n",
            "\n"
          ],
          "name": "stdout"
        }
      ]
    },
    {
      "cell_type": "markdown",
      "metadata": {
        "id": "lfeuBVaoXhTa"
      },
      "source": [
        "## b. Create an array from existing data"
      ]
    },
    {
      "cell_type": "code",
      "metadata": {
        "id": "SmfEOOQV9KhT",
        "colab": {
          "base_uri": "https://localhost:8080/"
        },
        "outputId": "f15dd51e-5f88-4067-9ec0-0599d4ed738d"
      },
      "source": [
        "# initialize an array with the given list\n",
        "new_list = [1, 2, 3, 4]\n",
        "arr_from_list = np.array(new_list)\n",
        "print(\"An array from given list is \\n\", arr_from_list, \" with dimensions \", arr_from_list.shape, \"\\n\")"
      ],
      "execution_count": null,
      "outputs": [
        {
          "output_type": "stream",
          "text": [
            "An array from given list is \n",
            " [1 2 3 4]  with dimensions  (4,) \n",
            "\n"
          ],
          "name": "stdout"
        }
      ]
    },
    {
      "cell_type": "code",
      "metadata": {
        "id": "ZA-iWT7j9Ka0"
      },
      "source": [
        "# initialize an array by loading data from a txt file\n",
        "txt_arr = np.loadtxt(path_to_txt_file)\n",
        "\n",
        "# initialize an array by loading data from a npy file\n",
        "loaded_arr = np.load(path_to_npy_file)"
      ],
      "execution_count": null,
      "outputs": []
    },
    {
      "cell_type": "markdown",
      "metadata": {
        "id": "F4sTWi44Ybo8"
      },
      "source": [
        "## c. Numerical ranges"
      ]
    },
    {
      "cell_type": "code",
      "metadata": {
        "id": "0nm-SFyi9c5V",
        "colab": {
          "base_uri": "https://localhost:8080/"
        },
        "outputId": "1b90e871-8a9c-4c78-a81b-4fbc6d122fcc"
      },
      "source": [
        "# return evenly spaced values within a given interval\n",
        "range_arr = np.arange(10)\n",
        "print(\"An array given range is \\n\", range_arr, \" with dimensions \", range_arr.shape, \"\\n\")\n",
        "\n",
        "# return evenly spaced numbers over a specified interval\n",
        "linspace_arr = np.linspace(2.0, 3.0, num=5, endpoint=False)\n",
        "print(\"An evenly spaced array given range is \\n\", linspace_arr, \" with dimensions \", linspace_arr.shape, \"\\n\")"
      ],
      "execution_count": null,
      "outputs": [
        {
          "output_type": "stream",
          "text": [
            "An array given range is \n",
            " [0 1 2 3 4 5 6 7 8 9]  with dimensions  (10,) \n",
            "\n",
            "An evenly spaced array given range is \n",
            " [2.  2.2 2.4 2.6 2.8]  with dimensions  (5,) \n",
            "\n"
          ],
          "name": "stdout"
        }
      ]
    },
    {
      "cell_type": "markdown",
      "metadata": {
        "id": "PRZ68lJcYxg6"
      },
      "source": [
        "## d. Create an array with random values"
      ]
    },
    {
      "cell_type": "code",
      "metadata": {
        "id": "HWqRwu4e9vqA",
        "colab": {
          "base_uri": "https://localhost:8080/"
        },
        "outputId": "7c2e5367-c7c8-40e7-aa09-ecfc07c5153b"
      },
      "source": [
        "# create an array of the given shape and populate it with random samples from a uniform distribution over [0, 1)\n",
        "uniform_rand_arr = np.random.rand(3,2)\n",
        "print(\"A random array from a uniform distribution is \\n\", uniform_rand_arr, \" with dimensions \", uniform_rand_arr.shape, \"\\n\")\n",
        "\n",
        "# return random integers from low (inclusive) to high (exclusive).\n",
        "range_rand_int_arr = np.random.randint(5, size=(2, 4))\n",
        "print(\"A random integer array from a range is \\n\", range_rand_int_arr, \" with dimensions \", range_rand_int_arr.shape, \"\\n\")\n",
        "\n",
        "# For random samples from N(\\mu, \\sigma^2), use:\n",
        "# sigma * np.random.randn(...) + mu\n",
        "mu = 3\n",
        "sigma =2.5\n",
        "sample_normal_arr = mu + sigma * np.random.randn(2, 4)\n",
        "print(\"A random array from a gaussian distribution is \\n\", sample_normal_arr)\n",
        "print(\"with mu: \", mu)\n",
        "print(\"with sigma: \", sigma)\n",
        "print(\"with dimensions \", sample_normal_arr.shape)"
      ],
      "execution_count": null,
      "outputs": [
        {
          "output_type": "stream",
          "text": [
            "A random array from a uniform distribution is \n",
            " [[0.5488135  0.71518937]\n",
            " [0.60276338 0.54488318]\n",
            " [0.4236548  0.64589411]]  with dimensions  (3, 2) \n",
            "\n",
            "A random integer array from a range is \n",
            " [[4 0 0 4]\n",
            " [2 1 0 1]]  with dimensions  (2, 4) \n",
            "\n",
            "A random array from a gaussian distribution is \n",
            " [[4.21078039 4.4478512  2.54604357 6.52551158]\n",
            " [2.06382077 3.68799579 0.59811347 3.94231744]]\n",
            "with mu:  3\n",
            "with sigma:  2.5\n",
            "with dimensions  (2, 4)\n"
          ],
          "name": "stdout"
        }
      ]
    },
    {
      "cell_type": "markdown",
      "metadata": {
        "id": "Tsyba3mo-2xd"
      },
      "source": [
        "# 3. Accessing and modifying data"
      ]
    },
    {
      "cell_type": "markdown",
      "metadata": {
        "id": "NN2IKIjC5kU9"
      },
      "source": [
        "## a. Indexing: Accessing values from Numpy Arrays"
      ]
    },
    {
      "cell_type": "code",
      "metadata": {
        "id": "oBZkqksi5icN",
        "colab": {
          "base_uri": "https://localhost:8080/"
        },
        "outputId": "73c599d2-2ac5-4160-d74d-d03cd98454b5"
      },
      "source": [
        "n = np.random.rand(4, 5, 6) # see this as 4 batches, each containing 5 rows and 6 columns\n",
        "n"
      ],
      "execution_count": null,
      "outputs": [
        {
          "output_type": "execute_result",
          "data": {
            "text/plain": [
              "array([[[0.5488135 , 0.71518937, 0.60276338, 0.54488318, 0.4236548 ,\n",
              "         0.64589411],\n",
              "        [0.43758721, 0.891773  , 0.96366276, 0.38344152, 0.79172504,\n",
              "         0.52889492],\n",
              "        [0.56804456, 0.92559664, 0.07103606, 0.0871293 , 0.0202184 ,\n",
              "         0.83261985],\n",
              "        [0.77815675, 0.87001215, 0.97861834, 0.79915856, 0.46147936,\n",
              "         0.78052918],\n",
              "        [0.11827443, 0.63992102, 0.14335329, 0.94466892, 0.52184832,\n",
              "         0.41466194]],\n",
              "\n",
              "       [[0.26455561, 0.77423369, 0.45615033, 0.56843395, 0.0187898 ,\n",
              "         0.6176355 ],\n",
              "        [0.61209572, 0.616934  , 0.94374808, 0.6818203 , 0.3595079 ,\n",
              "         0.43703195],\n",
              "        [0.6976312 , 0.06022547, 0.66676672, 0.67063787, 0.21038256,\n",
              "         0.1289263 ],\n",
              "        [0.31542835, 0.36371077, 0.57019677, 0.43860151, 0.98837384,\n",
              "         0.10204481],\n",
              "        [0.20887676, 0.16130952, 0.65310833, 0.2532916 , 0.46631077,\n",
              "         0.24442559]],\n",
              "\n",
              "       [[0.15896958, 0.11037514, 0.65632959, 0.13818295, 0.19658236,\n",
              "         0.36872517],\n",
              "        [0.82099323, 0.09710128, 0.83794491, 0.09609841, 0.97645947,\n",
              "         0.4686512 ],\n",
              "        [0.97676109, 0.60484552, 0.73926358, 0.03918779, 0.28280696,\n",
              "         0.12019656],\n",
              "        [0.2961402 , 0.11872772, 0.31798318, 0.41426299, 0.0641475 ,\n",
              "         0.69247212],\n",
              "        [0.56660145, 0.26538949, 0.52324805, 0.09394051, 0.5759465 ,\n",
              "         0.9292962 ]],\n",
              "\n",
              "       [[0.31856895, 0.66741038, 0.13179786, 0.7163272 , 0.28940609,\n",
              "         0.18319136],\n",
              "        [0.58651293, 0.02010755, 0.82894003, 0.00469548, 0.67781654,\n",
              "         0.27000797],\n",
              "        [0.73519402, 0.96218855, 0.24875314, 0.57615733, 0.59204193,\n",
              "         0.57225191],\n",
              "        [0.22308163, 0.95274901, 0.44712538, 0.84640867, 0.69947928,\n",
              "         0.29743695],\n",
              "        [0.81379782, 0.39650574, 0.8811032 , 0.58127287, 0.88173536,\n",
              "         0.69253159]]])"
            ]
          },
          "metadata": {
            "tags": []
          },
          "execution_count": 2
        }
      ]
    },
    {
      "cell_type": "code",
      "metadata": {
        "id": "1KyiwoIHFltJ",
        "colab": {
          "base_uri": "https://localhost:8080/"
        },
        "outputId": "f76cd202-66bd-4341-a46b-ec15cc807c01"
      },
      "source": [
        "n[1, 2, 3] # returns the element located in the forth column of third row of the second batch."
      ],
      "execution_count": null,
      "outputs": [
        {
          "output_type": "execute_result",
          "data": {
            "text/plain": [
              "0.6706378696181594"
            ]
          },
          "metadata": {
            "tags": []
          },
          "execution_count": 3
        }
      ]
    },
    {
      "cell_type": "markdown",
      "metadata": {
        "id": "5_3UUm7sCJqK"
      },
      "source": [
        "## b. Slicing: Accessing subsections of Numpy Arrays based on Indices"
      ]
    },
    {
      "cell_type": "code",
      "metadata": {
        "id": "pQh3PPGpCZ3g",
        "colab": {
          "base_uri": "https://localhost:8080/"
        },
        "outputId": "b21e6e87-a077-4c9a-d978-c0fd87373494"
      },
      "source": [
        "# slice along a batch\n",
        "print(n[0, :, :]) # same as: n[0]"
      ],
      "execution_count": null,
      "outputs": [
        {
          "output_type": "stream",
          "text": [
            "[[0.5488135  0.71518937 0.60276338 0.54488318 0.4236548  0.64589411]\n",
            " [0.43758721 0.891773   0.96366276 0.38344152 0.79172504 0.52889492]\n",
            " [0.56804456 0.92559664 0.07103606 0.0871293  0.0202184  0.83261985]\n",
            " [0.77815675 0.87001215 0.97861834 0.79915856 0.46147936 0.78052918]\n",
            " [0.11827443 0.63992102 0.14335329 0.94466892 0.52184832 0.41466194]]\n"
          ],
          "name": "stdout"
        }
      ]
    },
    {
      "cell_type": "code",
      "metadata": {
        "id": "Rr58Qx0MWt0C",
        "colab": {
          "base_uri": "https://localhost:8080/"
        },
        "outputId": "7cac1ba7-85ea-4fae-9e54-0c809143bd75"
      },
      "source": [
        "print(n[0, 0:3, 0:4])"
      ],
      "execution_count": null,
      "outputs": [
        {
          "output_type": "stream",
          "text": [
            "[[0.5488135  0.71518937 0.60276338 0.54488318]\n",
            " [0.43758721 0.891773   0.96366276 0.38344152]\n",
            " [0.56804456 0.92559664 0.07103606 0.0871293 ]]\n"
          ],
          "name": "stdout"
        }
      ]
    },
    {
      "cell_type": "code",
      "metadata": {
        "id": "_E-9XB0hSi9h",
        "colab": {
          "base_uri": "https://localhost:8080/"
        },
        "outputId": "9aa99c96-292e-4bea-e1af-9085844d6df0"
      },
      "source": [
        "# slice along multiple batches\n",
        "print(n[:, 3, 4]) # returns the elements in the 4th row and 5th column across all batches"
      ],
      "execution_count": null,
      "outputs": [
        {
          "output_type": "stream",
          "text": [
            "[0.46147936 0.98837384 0.0641475  0.69947928]\n"
          ],
          "name": "stdout"
        }
      ]
    },
    {
      "cell_type": "markdown",
      "metadata": {
        "id": "z4kunElTPZOp"
      },
      "source": [
        "### Slicing at Interval"
      ]
    },
    {
      "cell_type": "code",
      "metadata": {
        "id": "cPnvdl1ZPLzJ",
        "colab": {
          "base_uri": "https://localhost:8080/"
        },
        "outputId": "0f9a1ded-88ef-46ab-d09e-aeda0df45573"
      },
      "source": [
        "print(n[0::2]) # slices from index 0 to the end of the dimension at intervals of 2"
      ],
      "execution_count": null,
      "outputs": [
        {
          "output_type": "stream",
          "text": [
            "[[[0.5488135  0.71518937 0.60276338 0.54488318 0.4236548  0.64589411]\n",
            "  [0.43758721 0.891773   0.96366276 0.38344152 0.79172504 0.52889492]\n",
            "  [0.56804456 0.92559664 0.07103606 0.0871293  0.0202184  0.83261985]\n",
            "  [0.77815675 0.87001215 0.97861834 0.79915856 0.46147936 0.78052918]\n",
            "  [0.11827443 0.63992102 0.14335329 0.94466892 0.52184832 0.41466194]]\n",
            "\n",
            " [[0.15896958 0.11037514 0.65632959 0.13818295 0.19658236 0.36872517]\n",
            "  [0.82099323 0.09710128 0.83794491 0.09609841 0.97645947 0.4686512 ]\n",
            "  [0.97676109 0.60484552 0.73926358 0.03918779 0.28280696 0.12019656]\n",
            "  [0.2961402  0.11872772 0.31798318 0.41426299 0.0641475  0.69247212]\n",
            "  [0.56660145 0.26538949 0.52324805 0.09394051 0.5759465  0.9292962 ]]]\n"
          ],
          "name": "stdout"
        }
      ]
    },
    {
      "cell_type": "code",
      "metadata": {
        "id": "dSyHxIdJP_Vj",
        "colab": {
          "base_uri": "https://localhost:8080/"
        },
        "outputId": "47d8a9f3-bcd3-43e3-e6ca-98b0267b322d"
      },
      "source": [
        "print(n[0::2, 1:4, 1::2])"
      ],
      "execution_count": null,
      "outputs": [
        {
          "output_type": "stream",
          "text": [
            "[[[0.891773   0.38344152 0.52889492]\n",
            "  [0.92559664 0.0871293  0.83261985]\n",
            "  [0.87001215 0.79915856 0.78052918]]\n",
            "\n",
            " [[0.09710128 0.09609841 0.4686512 ]\n",
            "  [0.60484552 0.03918779 0.12019656]\n",
            "  [0.11872772 0.41426299 0.69247212]]]\n"
          ],
          "name": "stdout"
        }
      ]
    },
    {
      "cell_type": "markdown",
      "metadata": {
        "id": "HfrNmXUPCac7"
      },
      "source": [
        "## c. Modifying Numpy Arrays"
      ]
    },
    {
      "cell_type": "code",
      "metadata": {
        "id": "vDw0M4qLCmmO"
      },
      "source": [
        "n_copy = np.copy(n)"
      ],
      "execution_count": null,
      "outputs": []
    },
    {
      "cell_type": "markdown",
      "metadata": {
        "id": "bhPKGV0_ChxG"
      },
      "source": [
        "### Modify single values"
      ]
    },
    {
      "cell_type": "code",
      "metadata": {
        "id": "0WoT4FviDj7V",
        "colab": {
          "base_uri": "https://localhost:8080/"
        },
        "outputId": "cf602ba4-0aa4-4749-9019-6c02b07fa187"
      },
      "source": [
        "# check if values in the two arrays are the same before copy\n",
        "print(n_copy[2, 4, 1] == n[2, 4, 1])\n",
        "\n",
        "n_copy[2, 4, 1] = 0.005\n",
        "\n",
        "# check if values in the two arrays are the same after copy\n",
        "print(n_copy[2, 4, 1] == n[2, 4, 1])"
      ],
      "execution_count": null,
      "outputs": [
        {
          "output_type": "stream",
          "text": [
            "True\n",
            "False\n"
          ],
          "name": "stdout"
        }
      ]
    },
    {
      "cell_type": "code",
      "metadata": {
        "colab": {
          "base_uri": "https://localhost:8080/"
        },
        "id": "tMdjXJpzbJvY",
        "outputId": "a2e4492b-3639-4faf-8deb-2720dec1508b"
      },
      "source": [
        "print(n_copy[2, 4, 1])"
      ],
      "execution_count": null,
      "outputs": [
        {
          "output_type": "stream",
          "text": [
            "0.005\n"
          ],
          "name": "stdout"
        }
      ]
    },
    {
      "cell_type": "markdown",
      "metadata": {
        "id": "gg8WVOaxCoIH"
      },
      "source": [
        "### Modifying multiple values"
      ]
    },
    {
      "cell_type": "code",
      "metadata": {
        "id": "VgHHOWIzFYI2",
        "colab": {
          "base_uri": "https://localhost:8080/"
        },
        "outputId": "4b215e3d-57a2-47cc-b443-471dc61328bd"
      },
      "source": [
        "# check if values in the two arrays are the same before copy\n",
        "print(f\"Are the arrays the same before modification: {n_copy[2, 3] == n[2, 3]}\")\n",
        "print(f\"Before modifying values: {n_copy[2, 3]}\")\n",
        "\n",
        "n_copy[2, 3] = 0.5\n",
        "\n",
        "print(f\"After modifying values: {n_copy[2, 3]}\")\n",
        "\n",
        "# check if values in the two arrays are the same after copy\n",
        "print(f\"Are the arrays the same after modification: {n_copy[2, 3] == n[2, 3]}\")"
      ],
      "execution_count": null,
      "outputs": [
        {
          "output_type": "stream",
          "text": [
            "Are the arrays the same before modification: [ True  True  True  True  True  True]\n",
            "Before modifying values: [0.2961402  0.11872772 0.31798318 0.41426299 0.0641475  0.69247212]\n",
            "After modifying values: [0.5 0.5 0.5 0.5 0.5 0.5]\n",
            "Are the arrays the same after modification: [False False False False False False]\n"
          ],
          "name": "stdout"
        }
      ]
    },
    {
      "cell_type": "markdown",
      "metadata": {
        "id": "CTJmCIlu-6jO"
      },
      "source": [
        "# 4.Pivoting data"
      ]
    },
    {
      "cell_type": "markdown",
      "metadata": {
        "id": "qbaHAEkI0L2u"
      },
      "source": [
        "## a. Reshaping Arrays\n",
        "Array reshaping is an operation that changes the shape of an arrays whilst maintaining the same data in the array. \n",
        "\n",
        "For instance, reshaping from (3, 4, 5) -> (2, 5, 6) or from (3, 4, 5) -> (6, 10). A reshape operation is valid, so long as the product of the new shape specified matched the product of the old shape."
      ]
    },
    {
      "cell_type": "markdown",
      "metadata": {
        "id": "1dTwTABxDjOb"
      },
      "source": [
        "#### Reshaping within the same number of dimensions"
      ]
    },
    {
      "cell_type": "code",
      "metadata": {
        "id": "3HRpSRrCDqPS",
        "colab": {
          "base_uri": "https://localhost:8080/"
        },
        "outputId": "51577a3a-577b-441d-e27c-11e5fc8267d6"
      },
      "source": [
        "s = np.random.rand(3, 4, 5)\n",
        "print(f\"Original Shape: {s.shape}\")"
      ],
      "execution_count": null,
      "outputs": [
        {
          "output_type": "stream",
          "text": [
            "Original Shape: (3, 4, 5)\n"
          ],
          "name": "stdout"
        }
      ]
    },
    {
      "cell_type": "code",
      "metadata": {
        "colab": {
          "base_uri": "https://localhost:8080/"
        },
        "id": "hioOa19Nb_2P",
        "outputId": "1b8ee5d0-77b2-4126-8531-b2df53f82ff0"
      },
      "source": [
        "s.size"
      ],
      "execution_count": null,
      "outputs": [
        {
          "output_type": "execute_result",
          "data": {
            "text/plain": [
              "60"
            ]
          },
          "metadata": {
            "tags": []
          },
          "execution_count": 15
        }
      ]
    },
    {
      "cell_type": "code",
      "metadata": {
        "colab": {
          "base_uri": "https://localhost:8080/"
        },
        "id": "nR56niCdcQrG",
        "outputId": "2fd4feee-6aac-4082-d922-5847bcc8cd65"
      },
      "source": [
        "print(s)"
      ],
      "execution_count": null,
      "outputs": [
        {
          "output_type": "stream",
          "text": [
            "[[[0.72525428 0.50132438 0.95608363 0.6439902  0.42385505]\n",
            "  [0.60639321 0.0191932  0.30157482 0.66017354 0.29007761]\n",
            "  [0.61801543 0.4287687  0.13547406 0.29828233 0.56996491]\n",
            "  [0.59087276 0.57432525 0.65320082 0.65210327 0.43141844]]\n",
            "\n",
            " [[0.8965466  0.36756187 0.43586493 0.89192336 0.80619399]\n",
            "  [0.70388858 0.10022689 0.91948261 0.7142413  0.99884701]\n",
            "  [0.1494483  0.86812606 0.16249293 0.61555956 0.12381998]\n",
            "  [0.84800823 0.80731896 0.56910074 0.4071833  0.069167  ]]\n",
            "\n",
            " [[0.69742877 0.45354268 0.7220556  0.86638233 0.97552151]\n",
            "  [0.85580334 0.01171408 0.35997806 0.72999056 0.17162968]\n",
            "  [0.52103661 0.05433799 0.19999652 0.01852179 0.7936977 ]\n",
            "  [0.22392469 0.34535168 0.92808129 0.7044144  0.03183893]]]\n"
          ],
          "name": "stdout"
        }
      ]
    },
    {
      "cell_type": "code",
      "metadata": {
        "id": "0hClk9ebHgMU",
        "colab": {
          "base_uri": "https://localhost:8080/"
        },
        "outputId": "934dae6b-6218-4423-eb79-fb7153a7bbbb"
      },
      "source": [
        "s1 = s.reshape(2, 6, 5)\n",
        "print(f\"Reshaped from s: {s1.shape}\")"
      ],
      "execution_count": null,
      "outputs": [
        {
          "output_type": "stream",
          "text": [
            "Reshaped from s: (2, 6, 5)\n"
          ],
          "name": "stdout"
        }
      ]
    },
    {
      "cell_type": "code",
      "metadata": {
        "colab": {
          "base_uri": "https://localhost:8080/"
        },
        "id": "URYrMZr0cc7q",
        "outputId": "5609707d-0de6-4308-fc49-385f649426c7"
      },
      "source": [
        "print(s1)"
      ],
      "execution_count": null,
      "outputs": [
        {
          "output_type": "stream",
          "text": [
            "[[[0.72525428 0.50132438 0.95608363 0.6439902  0.42385505]\n",
            "  [0.60639321 0.0191932  0.30157482 0.66017354 0.29007761]\n",
            "  [0.61801543 0.4287687  0.13547406 0.29828233 0.56996491]\n",
            "  [0.59087276 0.57432525 0.65320082 0.65210327 0.43141844]\n",
            "  [0.8965466  0.36756187 0.43586493 0.89192336 0.80619399]\n",
            "  [0.70388858 0.10022689 0.91948261 0.7142413  0.99884701]]\n",
            "\n",
            " [[0.1494483  0.86812606 0.16249293 0.61555956 0.12381998]\n",
            "  [0.84800823 0.80731896 0.56910074 0.4071833  0.069167  ]\n",
            "  [0.69742877 0.45354268 0.7220556  0.86638233 0.97552151]\n",
            "  [0.85580334 0.01171408 0.35997806 0.72999056 0.17162968]\n",
            "  [0.52103661 0.05433799 0.19999652 0.01852179 0.7936977 ]\n",
            "  [0.22392469 0.34535168 0.92808129 0.7044144  0.03183893]]]\n"
          ],
          "name": "stdout"
        }
      ]
    },
    {
      "cell_type": "markdown",
      "metadata": {
        "id": "NqgGF9dcDZQO"
      },
      "source": [
        "### Reshaping to a different number of dimensions"
      ]
    },
    {
      "cell_type": "code",
      "metadata": {
        "id": "MKckDfOOAXji"
      },
      "source": [
        "r = np.arange(120)"
      ],
      "execution_count": null,
      "outputs": []
    },
    {
      "cell_type": "code",
      "metadata": {
        "id": "Vkv3TnnjC1D2",
        "colab": {
          "base_uri": "https://localhost:8080/"
        },
        "outputId": "c47b6b3c-8a5b-44dd-c5fb-548521a0658f"
      },
      "source": [
        "print(f\"Original shape: {r.shape}\")"
      ],
      "execution_count": null,
      "outputs": [
        {
          "output_type": "stream",
          "text": [
            "Original shape: (120,)\n"
          ],
          "name": "stdout"
        }
      ]
    },
    {
      "cell_type": "code",
      "metadata": {
        "colab": {
          "base_uri": "https://localhost:8080/"
        },
        "id": "k1L6BOSXc2o5",
        "outputId": "f344d7e4-18dd-4515-9076-cddacb1fb3a2"
      },
      "source": [
        "print(r)"
      ],
      "execution_count": null,
      "outputs": [
        {
          "output_type": "stream",
          "text": [
            "[  0   1   2   3   4   5   6   7   8   9  10  11  12  13  14  15  16  17\n",
            "  18  19  20  21  22  23  24  25  26  27  28  29  30  31  32  33  34  35\n",
            "  36  37  38  39  40  41  42  43  44  45  46  47  48  49  50  51  52  53\n",
            "  54  55  56  57  58  59  60  61  62  63  64  65  66  67  68  69  70  71\n",
            "  72  73  74  75  76  77  78  79  80  81  82  83  84  85  86  87  88  89\n",
            "  90  91  92  93  94  95  96  97  98  99 100 101 102 103 104 105 106 107\n",
            " 108 109 110 111 112 113 114 115 116 117 118 119]\n"
          ],
          "name": "stdout"
        }
      ]
    },
    {
      "cell_type": "code",
      "metadata": {
        "id": "w4u53ymMDBHr",
        "colab": {
          "base_uri": "https://localhost:8080/"
        },
        "outputId": "722d1e61-109d-4738-ee0e-c36ee6a1e97f"
      },
      "source": [
        "# (120,) -> (3, 4, 10)\n",
        "r1 = r.reshape(3, 4, 10) # this can also be written as r.reshape((3, 4, 10))\n",
        "print(f\"Reshaped from r: {r1.shape}\")"
      ],
      "execution_count": null,
      "outputs": [
        {
          "output_type": "stream",
          "text": [
            "Reshaped from r: (3, 4, 10)\n"
          ],
          "name": "stdout"
        }
      ]
    },
    {
      "cell_type": "code",
      "metadata": {
        "colab": {
          "base_uri": "https://localhost:8080/"
        },
        "id": "RWpI9eVXdL6i",
        "outputId": "e7a7f1b8-0950-421f-b6c5-7220ff6685e2"
      },
      "source": [
        "print(r1)"
      ],
      "execution_count": null,
      "outputs": [
        {
          "output_type": "stream",
          "text": [
            "[[[  0   1   2   3   4   5   6   7   8   9]\n",
            "  [ 10  11  12  13  14  15  16  17  18  19]\n",
            "  [ 20  21  22  23  24  25  26  27  28  29]\n",
            "  [ 30  31  32  33  34  35  36  37  38  39]]\n",
            "\n",
            " [[ 40  41  42  43  44  45  46  47  48  49]\n",
            "  [ 50  51  52  53  54  55  56  57  58  59]\n",
            "  [ 60  61  62  63  64  65  66  67  68  69]\n",
            "  [ 70  71  72  73  74  75  76  77  78  79]]\n",
            "\n",
            " [[ 80  81  82  83  84  85  86  87  88  89]\n",
            "  [ 90  91  92  93  94  95  96  97  98  99]\n",
            "  [100 101 102 103 104 105 106 107 108 109]\n",
            "  [110 111 112 113 114 115 116 117 118 119]]]\n"
          ],
          "name": "stdout"
        }
      ]
    },
    {
      "cell_type": "code",
      "metadata": {
        "id": "5CiMlVDEER6T",
        "colab": {
          "base_uri": "https://localhost:8080/"
        },
        "outputId": "3455e70e-92b4-4c99-a55a-6e020560b5c4"
      },
      "source": [
        "# (3, 4, 10) -> (6, 20)\n",
        "r2 = r1.reshape(6, 20)\n",
        "print(f\"Reshaped from r1: {r2.shape}\")"
      ],
      "execution_count": null,
      "outputs": [
        {
          "output_type": "stream",
          "text": [
            "Reshaped from r1: (6, 20)\n"
          ],
          "name": "stdout"
        }
      ]
    },
    {
      "cell_type": "code",
      "metadata": {
        "colab": {
          "base_uri": "https://localhost:8080/"
        },
        "id": "1BJPHamudbEC",
        "outputId": "06d010bc-9680-4d47-fcb1-f72a82a9ec33"
      },
      "source": [
        "print(r2)"
      ],
      "execution_count": null,
      "outputs": [
        {
          "output_type": "stream",
          "text": [
            "[[  0   1   2   3   4   5   6   7   8   9  10  11  12  13  14  15  16  17\n",
            "   18  19]\n",
            " [ 20  21  22  23  24  25  26  27  28  29  30  31  32  33  34  35  36  37\n",
            "   38  39]\n",
            " [ 40  41  42  43  44  45  46  47  48  49  50  51  52  53  54  55  56  57\n",
            "   58  59]\n",
            " [ 60  61  62  63  64  65  66  67  68  69  70  71  72  73  74  75  76  77\n",
            "   78  79]\n",
            " [ 80  81  82  83  84  85  86  87  88  89  90  91  92  93  94  95  96  97\n",
            "   98  99]\n",
            " [100 101 102 103 104 105 106 107 108 109 110 111 112 113 114 115 116 117\n",
            "  118 119]]\n"
          ],
          "name": "stdout"
        }
      ]
    },
    {
      "cell_type": "markdown",
      "metadata": {
        "id": "-VvoSc0H0AY-"
      },
      "source": [
        "## b. Transposing Arrays\n",
        "The transpose operation reverses the order of an array. It switches the rows to columns and vice versa. In a multi-dimensional array, the transpose operation moves the data from one axis to another in the order specified in the transpose method."
      ]
    },
    {
      "cell_type": "code",
      "metadata": {
        "id": "_tA8FZ7e0JDG",
        "colab": {
          "base_uri": "https://localhost:8080/"
        },
        "outputId": "72064089-851a-4931-fa00-2a1a11dbb147"
      },
      "source": [
        "w = np.arange(90).reshape((3, 5, 6))\n",
        "w"
      ],
      "execution_count": null,
      "outputs": [
        {
          "output_type": "execute_result",
          "data": {
            "text/plain": [
              "array([[[ 0,  1,  2,  3,  4,  5],\n",
              "        [ 6,  7,  8,  9, 10, 11],\n",
              "        [12, 13, 14, 15, 16, 17],\n",
              "        [18, 19, 20, 21, 22, 23],\n",
              "        [24, 25, 26, 27, 28, 29]],\n",
              "\n",
              "       [[30, 31, 32, 33, 34, 35],\n",
              "        [36, 37, 38, 39, 40, 41],\n",
              "        [42, 43, 44, 45, 46, 47],\n",
              "        [48, 49, 50, 51, 52, 53],\n",
              "        [54, 55, 56, 57, 58, 59]],\n",
              "\n",
              "       [[60, 61, 62, 63, 64, 65],\n",
              "        [66, 67, 68, 69, 70, 71],\n",
              "        [72, 73, 74, 75, 76, 77],\n",
              "        [78, 79, 80, 81, 82, 83],\n",
              "        [84, 85, 86, 87, 88, 89]]])"
            ]
          },
          "metadata": {
            "tags": []
          },
          "execution_count": 26
        }
      ]
    },
    {
      "cell_type": "markdown",
      "metadata": {
        "id": "Lkfwv2HrK5xl"
      },
      "source": [
        "#### Transpose without specifying axes"
      ]
    },
    {
      "cell_type": "code",
      "metadata": {
        "id": "9ziuTtSRKIzS",
        "colab": {
          "base_uri": "https://localhost:8080/"
        },
        "outputId": "58cab982-37a8-4f3b-de12-c21d505f351c"
      },
      "source": [
        "w1 = np.transpose(w)\n",
        "w1"
      ],
      "execution_count": null,
      "outputs": [
        {
          "output_type": "execute_result",
          "data": {
            "text/plain": [
              "array([[[ 0, 30, 60],\n",
              "        [ 6, 36, 66],\n",
              "        [12, 42, 72],\n",
              "        [18, 48, 78],\n",
              "        [24, 54, 84]],\n",
              "\n",
              "       [[ 1, 31, 61],\n",
              "        [ 7, 37, 67],\n",
              "        [13, 43, 73],\n",
              "        [19, 49, 79],\n",
              "        [25, 55, 85]],\n",
              "\n",
              "       [[ 2, 32, 62],\n",
              "        [ 8, 38, 68],\n",
              "        [14, 44, 74],\n",
              "        [20, 50, 80],\n",
              "        [26, 56, 86]],\n",
              "\n",
              "       [[ 3, 33, 63],\n",
              "        [ 9, 39, 69],\n",
              "        [15, 45, 75],\n",
              "        [21, 51, 81],\n",
              "        [27, 57, 87]],\n",
              "\n",
              "       [[ 4, 34, 64],\n",
              "        [10, 40, 70],\n",
              "        [16, 46, 76],\n",
              "        [22, 52, 82],\n",
              "        [28, 58, 88]],\n",
              "\n",
              "       [[ 5, 35, 65],\n",
              "        [11, 41, 71],\n",
              "        [17, 47, 77],\n",
              "        [23, 53, 83],\n",
              "        [29, 59, 89]]])"
            ]
          },
          "metadata": {
            "tags": []
          },
          "execution_count": 27
        }
      ]
    },
    {
      "cell_type": "markdown",
      "metadata": {
        "id": "l_wJ3i7sLEuQ"
      },
      "source": [
        "#### Transpose along specified axes"
      ]
    },
    {
      "cell_type": "code",
      "metadata": {
        "id": "LakyyLPVLJDg",
        "colab": {
          "base_uri": "https://localhost:8080/"
        },
        "outputId": "dae40d8e-9687-42cd-eebb-8c38dc9773a5"
      },
      "source": [
        "w2 = np.transpose(w, axes=(0, 2, 1)) # 0, 1, 2\n",
        "w2"
      ],
      "execution_count": null,
      "outputs": [
        {
          "output_type": "execute_result",
          "data": {
            "text/plain": [
              "array([[[ 0,  6, 12, 18, 24],\n",
              "        [ 1,  7, 13, 19, 25],\n",
              "        [ 2,  8, 14, 20, 26],\n",
              "        [ 3,  9, 15, 21, 27],\n",
              "        [ 4, 10, 16, 22, 28],\n",
              "        [ 5, 11, 17, 23, 29]],\n",
              "\n",
              "       [[30, 36, 42, 48, 54],\n",
              "        [31, 37, 43, 49, 55],\n",
              "        [32, 38, 44, 50, 56],\n",
              "        [33, 39, 45, 51, 57],\n",
              "        [34, 40, 46, 52, 58],\n",
              "        [35, 41, 47, 53, 59]],\n",
              "\n",
              "       [[60, 66, 72, 78, 84],\n",
              "        [61, 67, 73, 79, 85],\n",
              "        [62, 68, 74, 80, 86],\n",
              "        [63, 69, 75, 81, 87],\n",
              "        [64, 70, 76, 82, 88],\n",
              "        [65, 71, 77, 83, 89]]])"
            ]
          },
          "metadata": {
            "tags": []
          },
          "execution_count": 28
        }
      ]
    },
    {
      "cell_type": "code",
      "metadata": {
        "id": "Hvw9jUvBLcl5",
        "colab": {
          "base_uri": "https://localhost:8080/"
        },
        "outputId": "2b8bd004-89db-4e9c-adee-99ae13872245"
      },
      "source": [
        "w3 = np.transpose(w, axes=(1, 2, 0))\n",
        "w3"
      ],
      "execution_count": null,
      "outputs": [
        {
          "output_type": "execute_result",
          "data": {
            "text/plain": [
              "array([[[ 0, 30, 60],\n",
              "        [ 1, 31, 61],\n",
              "        [ 2, 32, 62],\n",
              "        [ 3, 33, 63],\n",
              "        [ 4, 34, 64],\n",
              "        [ 5, 35, 65]],\n",
              "\n",
              "       [[ 6, 36, 66],\n",
              "        [ 7, 37, 67],\n",
              "        [ 8, 38, 68],\n",
              "        [ 9, 39, 69],\n",
              "        [10, 40, 70],\n",
              "        [11, 41, 71]],\n",
              "\n",
              "       [[12, 42, 72],\n",
              "        [13, 43, 73],\n",
              "        [14, 44, 74],\n",
              "        [15, 45, 75],\n",
              "        [16, 46, 76],\n",
              "        [17, 47, 77]],\n",
              "\n",
              "       [[18, 48, 78],\n",
              "        [19, 49, 79],\n",
              "        [20, 50, 80],\n",
              "        [21, 51, 81],\n",
              "        [22, 52, 82],\n",
              "        [23, 53, 83]],\n",
              "\n",
              "       [[24, 54, 84],\n",
              "        [25, 55, 85],\n",
              "        [26, 56, 86],\n",
              "        [27, 57, 87],\n",
              "        [28, 58, 88],\n",
              "        [29, 59, 89]]])"
            ]
          },
          "metadata": {
            "tags": []
          },
          "execution_count": 29
        }
      ]
    },
    {
      "cell_type": "markdown",
      "metadata": {
        "id": "nCpBAlJLzQev"
      },
      "source": [
        "## c. Flattening Arrays\n",
        "The flatten operation in Numpy collapses arrays of multiple dimensions into one dimension.\n",
        "\n",
        "\n",
        "Different orders can be specified when flattening Numpy Arrays. See examples below."
      ]
    },
    {
      "cell_type": "code",
      "metadata": {
        "id": "IrtInQA8Lfo1"
      },
      "source": [
        "k = np.random.rand(5, 6)"
      ],
      "execution_count": null,
      "outputs": []
    },
    {
      "cell_type": "code",
      "metadata": {
        "colab": {
          "base_uri": "https://localhost:8080/"
        },
        "id": "Qbx4EHbZgdEI",
        "outputId": "3adec8de-692d-40c7-b22f-4a040eb42089"
      },
      "source": [
        "k"
      ],
      "execution_count": null,
      "outputs": [
        {
          "output_type": "execute_result",
          "data": {
            "text/plain": [
              "array([[0.16469416, 0.6214784 , 0.57722859, 0.23789282, 0.934214  ,\n",
              "        0.61396596],\n",
              "       [0.5356328 , 0.58990998, 0.73012203, 0.311945  , 0.39822106,\n",
              "        0.20984375],\n",
              "       [0.18619301, 0.94437239, 0.7395508 , 0.49045881, 0.22741463,\n",
              "        0.25435648],\n",
              "       [0.05802916, 0.43441663, 0.31179588, 0.69634349, 0.37775184,\n",
              "        0.17960368],\n",
              "       [0.02467873, 0.06724963, 0.67939277, 0.45369684, 0.53657921,\n",
              "        0.89667129]])"
            ]
          },
          "metadata": {
            "tags": []
          },
          "execution_count": 31
        }
      ]
    },
    {
      "cell_type": "markdown",
      "metadata": {
        "id": "krXRrnsOJy6O"
      },
      "source": [
        "### Flattening Arrays along the row (default order)"
      ]
    },
    {
      "cell_type": "code",
      "metadata": {
        "id": "2mn0tANc-9LT",
        "colab": {
          "base_uri": "https://localhost:8080/"
        },
        "outputId": "24c40de1-57f5-486d-96d9-1346a56857af"
      },
      "source": [
        "k1 = k.flatten() # all rows are stacked on each other into a 1D array.\n",
        "k1"
      ],
      "execution_count": null,
      "outputs": [
        {
          "output_type": "execute_result",
          "data": {
            "text/plain": [
              "array([0.16469416, 0.6214784 , 0.57722859, 0.23789282, 0.934214  ,\n",
              "       0.61396596, 0.5356328 , 0.58990998, 0.73012203, 0.311945  ,\n",
              "       0.39822106, 0.20984375, 0.18619301, 0.94437239, 0.7395508 ,\n",
              "       0.49045881, 0.22741463, 0.25435648, 0.05802916, 0.43441663,\n",
              "       0.31179588, 0.69634349, 0.37775184, 0.17960368, 0.02467873,\n",
              "       0.06724963, 0.67939277, 0.45369684, 0.53657921, 0.89667129])"
            ]
          },
          "metadata": {
            "tags": []
          },
          "execution_count": 35
        }
      ]
    },
    {
      "cell_type": "code",
      "metadata": {
        "colab": {
          "base_uri": "https://localhost:8080/"
        },
        "id": "vmvNMqoxgmd1",
        "outputId": "63141ff1-a289-4c17-e971-d3333c1555bd"
      },
      "source": [
        "k1.shape"
      ],
      "execution_count": null,
      "outputs": [
        {
          "output_type": "execute_result",
          "data": {
            "text/plain": [
              "(30,)"
            ]
          },
          "metadata": {
            "tags": []
          },
          "execution_count": 36
        }
      ]
    },
    {
      "cell_type": "markdown",
      "metadata": {
        "id": "KzC2kEdRKODv"
      },
      "source": [
        "### Flattening Arrays along the column"
      ]
    },
    {
      "cell_type": "code",
      "metadata": {
        "id": "U1KgPP4HKM3X",
        "colab": {
          "base_uri": "https://localhost:8080/"
        },
        "outputId": "456016ee-1c7b-4022-c3da-28233ff264a5"
      },
      "source": [
        "k2= k.flatten('F') # forms a 1D array where elements in a column are listed before moving to the next column.\n",
        "k2"
      ],
      "execution_count": null,
      "outputs": [
        {
          "output_type": "execute_result",
          "data": {
            "text/plain": [
              "array([0.16469416, 0.5356328 , 0.18619301, 0.05802916, 0.02467873,\n",
              "       0.6214784 , 0.58990998, 0.94437239, 0.43441663, 0.06724963,\n",
              "       0.57722859, 0.73012203, 0.7395508 , 0.31179588, 0.67939277,\n",
              "       0.23789282, 0.311945  , 0.49045881, 0.69634349, 0.45369684,\n",
              "       0.934214  , 0.39822106, 0.22741463, 0.37775184, 0.53657921,\n",
              "       0.61396596, 0.20984375, 0.25435648, 0.17960368, 0.89667129])"
            ]
          },
          "metadata": {
            "tags": []
          },
          "execution_count": 38
        }
      ]
    },
    {
      "cell_type": "markdown",
      "metadata": {
        "id": "d_kl2pC6Max8"
      },
      "source": [
        "### Flattening Arrays using Ravel"
      ]
    },
    {
      "cell_type": "code",
      "metadata": {
        "id": "cTF9riClMeiZ",
        "colab": {
          "base_uri": "https://localhost:8080/"
        },
        "outputId": "54913e0d-88da-4fb0-db32-56d22bec2a60"
      },
      "source": [
        "k3 = k.ravel()\n",
        "k3"
      ],
      "execution_count": null,
      "outputs": [
        {
          "output_type": "execute_result",
          "data": {
            "text/plain": [
              "array([0.16469416, 0.6214784 , 0.57722859, 0.23789282, 0.934214  ,\n",
              "       0.61396596, 0.5356328 , 0.58990998, 0.73012203, 0.311945  ,\n",
              "       0.39822106, 0.20984375, 0.18619301, 0.94437239, 0.7395508 ,\n",
              "       0.49045881, 0.22741463, 0.25435648, 0.05802916, 0.43441663,\n",
              "       0.31179588, 0.69634349, 0.37775184, 0.17960368, 0.02467873,\n",
              "       0.06724963, 0.67939277, 0.45369684, 0.53657921, 0.89667129])"
            ]
          },
          "metadata": {
            "tags": []
          },
          "execution_count": 40
        }
      ]
    },
    {
      "cell_type": "markdown",
      "metadata": {
        "id": "BuO6iLKjQyUz"
      },
      "source": [
        "### Flattening Arrays using Numpy Reshape\n"
      ]
    },
    {
      "cell_type": "code",
      "metadata": {
        "id": "8YOai7ZqL6y0",
        "colab": {
          "base_uri": "https://localhost:8080/"
        },
        "outputId": "c9ca60ff-1234-4d96-feea-06d62e48f4f0"
      },
      "source": [
        "k4= k.reshape(-1)\n",
        "k4"
      ],
      "execution_count": null,
      "outputs": [
        {
          "output_type": "execute_result",
          "data": {
            "text/plain": [
              "array([0.16469416, 0.6214784 , 0.57722859, 0.23789282, 0.934214  ,\n",
              "       0.61396596, 0.5356328 , 0.58990998, 0.73012203, 0.311945  ,\n",
              "       0.39822106, 0.20984375, 0.18619301, 0.94437239, 0.7395508 ,\n",
              "       0.49045881, 0.22741463, 0.25435648, 0.05802916, 0.43441663,\n",
              "       0.31179588, 0.69634349, 0.37775184, 0.17960368, 0.02467873,\n",
              "       0.06724963, 0.67939277, 0.45369684, 0.53657921, 0.89667129])"
            ]
          },
          "metadata": {
            "tags": []
          },
          "execution_count": 42
        }
      ]
    },
    {
      "cell_type": "markdown",
      "metadata": {
        "id": "92Xhx3ytPpoX"
      },
      "source": [
        "### Flatten vs Ravel\n",
        "Bothe functions take in the same kind of arguments and order to flatten can be specified in both arrays. The difference lies in how the result 1D arrays are are created in both cases."
      ]
    },
    {
      "cell_type": "code",
      "metadata": {
        "id": "LAXKU1i5QZkN"
      },
      "source": [
        "test = np.random.rand(4, 5)"
      ],
      "execution_count": null,
      "outputs": []
    },
    {
      "cell_type": "code",
      "metadata": {
        "id": "IYRe4_vWPteC",
        "colab": {
          "base_uri": "https://localhost:8080/"
        },
        "outputId": "1709d6dc-a0d9-42cd-9a6d-a9aad2a2f252"
      },
      "source": [
        "test_flatten = test.flatten()\n",
        "test_ravel = test.ravel()\n",
        "\n",
        "print(f\"test_flatten: {test_flatten}\")\n",
        "print(f\"test_ravel: {test_ravel}\")"
      ],
      "execution_count": null,
      "outputs": [
        {
          "output_type": "stream",
          "text": [
            "test_flatten: [0.99033895 0.21689698 0.6630782  0.26332238 0.020651   0.75837865\n",
            " 0.32001715 0.38346389 0.58831711 0.83104846 0.62898184 0.87265066\n",
            " 0.27354203 0.79804683 0.18563594 0.95279166 0.68748828 0.21550768\n",
            " 0.94737059 0.73085581]\n",
            "test_ravel: [0.99033895 0.21689698 0.6630782  0.26332238 0.020651   0.75837865\n",
            " 0.32001715 0.38346389 0.58831711 0.83104846 0.62898184 0.87265066\n",
            " 0.27354203 0.79804683 0.18563594 0.95279166 0.68748828 0.21550768\n",
            " 0.94737059 0.73085581]\n"
          ],
          "name": "stdout"
        }
      ]
    },
    {
      "cell_type": "code",
      "metadata": {
        "id": "TVZpAu6nQmd3",
        "colab": {
          "base_uri": "https://localhost:8080/"
        },
        "outputId": "99163189-c07e-45ce-cfa3-e2e9fc464073"
      },
      "source": [
        "test_flatten[0] = 5\n",
        "print(f\"Modified test_flatten: {test_flatten}\")\n",
        "print(f\"Original Array: {test}\")"
      ],
      "execution_count": null,
      "outputs": [
        {
          "output_type": "stream",
          "text": [
            "Modified test_flatten: [5.         0.21689698 0.6630782  0.26332238 0.020651   0.75837865\n",
            " 0.32001715 0.38346389 0.58831711 0.83104846 0.62898184 0.87265066\n",
            " 0.27354203 0.79804683 0.18563594 0.95279166 0.68748828 0.21550768\n",
            " 0.94737059 0.73085581]\n",
            "Original Array: [[0.99033895 0.21689698 0.6630782  0.26332238 0.020651  ]\n",
            " [0.75837865 0.32001715 0.38346389 0.58831711 0.83104846]\n",
            " [0.62898184 0.87265066 0.27354203 0.79804683 0.18563594]\n",
            " [0.95279166 0.68748828 0.21550768 0.94737059 0.73085581]]\n"
          ],
          "name": "stdout"
        }
      ]
    },
    {
      "cell_type": "code",
      "metadata": {
        "id": "SYVgIianQ73X",
        "colab": {
          "base_uri": "https://localhost:8080/"
        },
        "outputId": "f5eda7a2-969c-4a42-f16d-badb34dc935f"
      },
      "source": [
        "test_ravel[0] = 5\n",
        "print(f\"Modified test_ravel: {test_ravel}\")\n",
        "print(f\"Original Array: {test}\")"
      ],
      "execution_count": null,
      "outputs": [
        {
          "output_type": "stream",
          "text": [
            "Modified test_ravel: [5.         0.21689698 0.6630782  0.26332238 0.020651   0.75837865\n",
            " 0.32001715 0.38346389 0.58831711 0.83104846 0.62898184 0.87265066\n",
            " 0.27354203 0.79804683 0.18563594 0.95279166 0.68748828 0.21550768\n",
            " 0.94737059 0.73085581]\n",
            "Original Array: [[5.         0.21689698 0.6630782  0.26332238 0.020651  ]\n",
            " [0.75837865 0.32001715 0.38346389 0.58831711 0.83104846]\n",
            " [0.62898184 0.87265066 0.27354203 0.79804683 0.18563594]\n",
            " [0.95279166 0.68748828 0.21550768 0.94737059 0.73085581]]\n"
          ],
          "name": "stdout"
        }
      ]
    },
    {
      "cell_type": "markdown",
      "metadata": {
        "id": "lv_Lxkf2z18l"
      },
      "source": [
        "## d. Squeezing & Expanding Arrays"
      ]
    },
    {
      "cell_type": "markdown",
      "metadata": {
        "id": "rEbqqVfrz_zI"
      },
      "source": [
        "### Squeezing Numpy Arrays\n",
        "\n",
        "The squeeze operation allows reduction of numpy arrays axes by dropping an specified axis, so long as it is of **unit length**. The product of the shape (overall size of the array) remains the same."
      ]
    },
    {
      "cell_type": "code",
      "metadata": {
        "id": "KWRHkIRwU3fn",
        "colab": {
          "base_uri": "https://localhost:8080/"
        },
        "outputId": "35ed7e15-21ad-419a-c6b8-87638a057b33"
      },
      "source": [
        "sq = np.random.rand(4, 1, 5)\n",
        "print(f\"Original Array: \\n{sq}\\n\")\n",
        "print(f\"Shape of Original Array: {sq.shape}\")"
      ],
      "execution_count": null,
      "outputs": [
        {
          "output_type": "stream",
          "text": [
            "Original Array: \n",
            "[[[0.35561274 0.94043195 0.76532525 0.74866362 0.90371974]]\n",
            "\n",
            " [[0.08342244 0.55219247 0.58447607 0.96193638 0.29214753]]\n",
            "\n",
            " [[0.24082878 0.10029394 0.01642963 0.92952932 0.66991655]]\n",
            "\n",
            " [[0.78515291 0.28173011 0.58641017 0.06395527 0.4856276 ]]]\n",
            "\n",
            "Shape of Original Array: (4, 1, 5)\n"
          ],
          "name": "stdout"
        }
      ]
    },
    {
      "cell_type": "code",
      "metadata": {
        "id": "0wMvcLbRU7ZO",
        "colab": {
          "base_uri": "https://localhost:8080/"
        },
        "outputId": "21a79388-95bb-4416-cfa0-84bf4b29aae3"
      },
      "source": [
        "# transforms from (4, 1, 5) -> (4, 5)\n",
        "sq1 = np.squeeze(sq)\n",
        "print(f\"Squeezed Array: \\n {sq1}\\n\")\n",
        "print(f\"Shape of Squeezed Array: {sq1.shape}\")"
      ],
      "execution_count": null,
      "outputs": [
        {
          "output_type": "stream",
          "text": [
            "Squeezed Array: \n",
            " [[0.35561274 0.94043195 0.76532525 0.74866362 0.90371974]\n",
            " [0.08342244 0.55219247 0.58447607 0.96193638 0.29214753]\n",
            " [0.24082878 0.10029394 0.01642963 0.92952932 0.66991655]\n",
            " [0.78515291 0.28173011 0.58641017 0.06395527 0.4856276 ]]\n",
            "\n",
            "Shape of Squeezed Array: (4, 5)\n"
          ],
          "name": "stdout"
        }
      ]
    },
    {
      "cell_type": "markdown",
      "metadata": {
        "id": "PTkp8T21Xzvc"
      },
      "source": [
        "#### Squeezing Multiple Axes\n",
        "Multiple unit length axes can be squeezed as shown below"
      ]
    },
    {
      "cell_type": "code",
      "metadata": {
        "id": "b5FfAJWNXAgB",
        "colab": {
          "base_uri": "https://localhost:8080/"
        },
        "outputId": "157ab846-5f83-4322-8dc7-5b4f307e14bc"
      },
      "source": [
        "q = np.random.rand(1, 4, 1, 5)\n",
        "print(f\"Original Array: \\n {q}\\n\")\n",
        "print(f\"Shape of Original Array: {q.shape}\")\n"
      ],
      "execution_count": null,
      "outputs": [
        {
          "output_type": "stream",
          "text": [
            "Original Array: \n",
            " [[[[0.36858461 0.13690027 0.82211773 0.18984791 0.51131898]]\n",
            "\n",
            "  [[0.22431703 0.09784448 0.86219152 0.97291949 0.96083466]]\n",
            "\n",
            "  [[0.9065555  0.77404733 0.33314515 0.08110139 0.40724117]]\n",
            "\n",
            "  [[0.23223414 0.13248763 0.05342718 0.72559436 0.01142746]]]]\n",
            "\n",
            "Shape of Original Array: (1, 4, 1, 5)\n"
          ],
          "name": "stdout"
        }
      ]
    },
    {
      "cell_type": "code",
      "metadata": {
        "id": "N1UV_58ZYEId",
        "colab": {
          "base_uri": "https://localhost:8080/"
        },
        "outputId": "fbd408b7-7a5f-466f-85ac-ed311d42d1e5"
      },
      "source": [
        "q1 = np.squeeze(q)\n",
        "print(f\"Multiple Squeezed Array: \\n {q1}\\n\")\n",
        "print(f\"Shape of Multiple Squeezed Array: {q1.shape}\")"
      ],
      "execution_count": null,
      "outputs": [
        {
          "output_type": "stream",
          "text": [
            "Multiple Squeezed Array: \n",
            " [[0.36858461 0.13690027 0.82211773 0.18984791 0.51131898]\n",
            " [0.22431703 0.09784448 0.86219152 0.97291949 0.96083466]\n",
            " [0.9065555  0.77404733 0.33314515 0.08110139 0.40724117]\n",
            " [0.23223414 0.13248763 0.05342718 0.72559436 0.01142746]]\n",
            "\n",
            "Shape of Multiple Squeezed Array: (4, 5)\n"
          ],
          "name": "stdout"
        }
      ]
    },
    {
      "cell_type": "markdown",
      "metadata": {
        "id": "Xaq-rqWGY4Vv"
      },
      "source": [
        "#### Squeezing specified axes"
      ]
    },
    {
      "cell_type": "code",
      "metadata": {
        "id": "itvXlWOcY7f1",
        "colab": {
          "base_uri": "https://localhost:8080/"
        },
        "outputId": "e32af17c-711b-4af3-d8e0-4cd2a922eb96"
      },
      "source": [
        "q2 = np.squeeze(q, axis=2)\n",
        "print(f\"Specified axis Squeezed Array: {q2}\\n\")\n",
        "print(f\"Shape of Specified axis Squeezed Array: {q2.shape}\")"
      ],
      "execution_count": null,
      "outputs": [
        {
          "output_type": "stream",
          "text": [
            "Specified axis Squeezed Array: [[[0.36858461 0.13690027 0.82211773 0.18984791 0.51131898]\n",
            "  [0.22431703 0.09784448 0.86219152 0.97291949 0.96083466]\n",
            "  [0.9065555  0.77404733 0.33314515 0.08110139 0.40724117]\n",
            "  [0.23223414 0.13248763 0.05342718 0.72559436 0.01142746]]]\n",
            "\n",
            "Shape of Specified axis Squeezed Array: (1, 4, 5)\n"
          ],
          "name": "stdout"
        }
      ]
    },
    {
      "cell_type": "markdown",
      "metadata": {
        "id": "4OErK4oLZZyd"
      },
      "source": [
        "### Unsqueezing (Expanding) Numpy Arrays\n",
        "This is the direct opposite of squeezing. A new unit axis is inserted in specified position. Multiple unit axes can be inserted by using a tuple on the axis attribute of the `expand_dims` method."
      ]
    },
    {
      "cell_type": "code",
      "metadata": {
        "id": "oaE5pGBAaFDD",
        "colab": {
          "base_uri": "https://localhost:8080/"
        },
        "outputId": "ab854880-6fa6-42ab-de98-6a6c4e0908f0"
      },
      "source": [
        "y = np.random.rand(4, 5)\n",
        "print(f\"Original Array: \\n {y}\\n\")\n",
        "print(f\"Shape of Original Array: {y.shape}\")"
      ],
      "execution_count": null,
      "outputs": [
        {
          "output_type": "stream",
          "text": [
            "Original Array: \n",
            " [[0.18115096 0.78854551 0.05684808 0.69699724 0.7786954 ]\n",
            " [0.77740756 0.25942256 0.37381314 0.58759964 0.2728219 ]\n",
            " [0.3708528  0.19705428 0.45985588 0.0446123  0.79979588]\n",
            " [0.07695645 0.51883515 0.3068101  0.57754295 0.95943334]]\n",
            "\n",
            "Shape of Original Array: (4, 5)\n"
          ],
          "name": "stdout"
        }
      ]
    },
    {
      "cell_type": "code",
      "metadata": {
        "id": "k4Me0R0LaQKZ",
        "colab": {
          "base_uri": "https://localhost:8080/"
        },
        "outputId": "4f1d1370-c2dc-46f2-f89e-546eeb59b8e2"
      },
      "source": [
        "# transforms from (4, 5) -> (4, 1, 5)\n",
        "y1 = np.expand_dims(y, axis=1)\n",
        "print(f\"Expanded Array: \\n {y1}\\n\")\n",
        "print(f\"Shape of Expanded Array: {y1.shape}\")"
      ],
      "execution_count": null,
      "outputs": [
        {
          "output_type": "stream",
          "text": [
            "Expanded Array: \n",
            " [[[0.18115096 0.78854551 0.05684808 0.69699724 0.7786954 ]]\n",
            "\n",
            " [[0.77740756 0.25942256 0.37381314 0.58759964 0.2728219 ]]\n",
            "\n",
            " [[0.3708528  0.19705428 0.45985588 0.0446123  0.79979588]]\n",
            "\n",
            " [[0.07695645 0.51883515 0.3068101  0.57754295 0.95943334]]]\n",
            "\n",
            "Shape of Expanded Array: (4, 1, 5)\n"
          ],
          "name": "stdout"
        }
      ]
    },
    {
      "cell_type": "code",
      "metadata": {
        "id": "p0-bX_qCah5W",
        "colab": {
          "base_uri": "https://localhost:8080/"
        },
        "outputId": "8cc4ae1f-94be-49f0-9b1d-5677065932d1"
      },
      "source": [
        "# transforms from (4, 5) -> (1, 4, 1, 5)\n",
        "y2 = np.expand_dims(y, axis=(0, 2))\n",
        "print(f\"Multi-axes Expanded Array: \\n {y2}\\n\")\n",
        "print(f\"Shape of Multi-axes Expanded Array: {y2.shape}\")"
      ],
      "execution_count": null,
      "outputs": [
        {
          "output_type": "stream",
          "text": [
            "Multi-axes Expanded Array: \n",
            " [[[[0.18115096 0.78854551 0.05684808 0.69699724 0.7786954 ]]\n",
            "\n",
            "  [[0.77740756 0.25942256 0.37381314 0.58759964 0.2728219 ]]\n",
            "\n",
            "  [[0.3708528  0.19705428 0.45985588 0.0446123  0.79979588]]\n",
            "\n",
            "  [[0.07695645 0.51883515 0.3068101  0.57754295 0.95943334]]]]\n",
            "\n",
            "Shape of Multi-axes Expanded Array: (1, 4, 1, 5)\n"
          ],
          "name": "stdout"
        }
      ]
    },
    {
      "cell_type": "markdown",
      "metadata": {
        "id": "zgNG6cvF-9ol"
      },
      "source": [
        "# 5.Combining data"
      ]
    },
    {
      "cell_type": "markdown",
      "metadata": {
        "id": "C5lnL5dLTsnP"
      },
      "source": [
        "### 5a. Concatenation"
      ]
    },
    {
      "cell_type": "markdown",
      "metadata": {
        "id": "dN9Gwkd_Tp74"
      },
      "source": [
        "A concatenation operation joins a sequence of arrays along an *existing* axis. All arrays must either have the same shape (except in the concatenating dimension) or be empty.\n",
        "\n",
        "---\n",
        "\n"
      ]
    },
    {
      "cell_type": "code",
      "metadata": {
        "colab": {
          "base_uri": "https://localhost:8080/",
          "height": 511
        },
        "id": "c0Txtg39VRGw",
        "outputId": "abca2c73-869b-4ae2-f76a-c3558afe4bef"
      },
      "source": [
        "# Concatenating 2-d Arrays\n",
        "\n",
        "array1 = np.array([[1, 2], [3, 4]])\n",
        "print(\"Array 1 is \\n\", array1, \" with dimensions \", array1.shape, \"\\n\")\n",
        "\n",
        "array2 = np.array([[5, 6]])\n",
        "print(\"Array 2 is \\n\", array2, \" with dimensions \", array2.shape, \"\\n\")\n",
        "\n",
        "\n",
        "concatenated_array1 = np.concatenate((array1, array2), axis = 0) \n",
        "print(\"Concatenated array 1 along axis 0 (row-wise for 2-d arrays) is \\n\", concatenated_array1, \"with dimensions \", concatenated_array1.shape, '\\n')\n",
        "\n",
        "concatenated_array2 = np.concatenate((array1, array2), axis = 1) \n",
        "print(\"Concatenated array 2 along axis 0 (column-wise for 2-d arrays) is \\n\", concatenated_array1, \"with dimensions \", concatenated_array1.shape)\n"
      ],
      "execution_count": null,
      "outputs": [
        {
          "output_type": "stream",
          "text": [
            "Array 1 is \n",
            " [[1 2]\n",
            " [3 4]]  with dimensions  (2, 2) \n",
            "\n",
            "Array 2 is \n",
            " [[5 6]]  with dimensions  (1, 2) \n",
            "\n",
            "Concatenated array 1 along axis 0 (row-wise for 2-d arrays) is \n",
            " [[1 2]\n",
            " [3 4]\n",
            " [5 6]] with dimensions  (3, 2) \n",
            "\n"
          ],
          "name": "stdout"
        },
        {
          "output_type": "error",
          "ename": "ValueError",
          "evalue": "ignored",
          "traceback": [
            "\u001b[0;31m---------------------------------------------------------------------------\u001b[0m",
            "\u001b[0;31mValueError\u001b[0m                                Traceback (most recent call last)",
            "\u001b[0;32m<ipython-input-21-36bf3dfac8c1>\u001b[0m in \u001b[0;36m<module>\u001b[0;34m()\u001b[0m\n\u001b[1;32m     11\u001b[0m \u001b[0mprint\u001b[0m\u001b[0;34m(\u001b[0m\u001b[0;34m\"Concatenated array 1 along axis 0 (row-wise for 2-d arrays) is \\n\"\u001b[0m\u001b[0;34m,\u001b[0m \u001b[0mconcatenated_array1\u001b[0m\u001b[0;34m,\u001b[0m \u001b[0;34m\"with dimensions \"\u001b[0m\u001b[0;34m,\u001b[0m \u001b[0mconcatenated_array1\u001b[0m\u001b[0;34m.\u001b[0m\u001b[0mshape\u001b[0m\u001b[0;34m,\u001b[0m \u001b[0;34m'\\n'\u001b[0m\u001b[0;34m)\u001b[0m\u001b[0;34m\u001b[0m\u001b[0;34m\u001b[0m\u001b[0m\n\u001b[1;32m     12\u001b[0m \u001b[0;34m\u001b[0m\u001b[0m\n\u001b[0;32m---> 13\u001b[0;31m \u001b[0mconcatenated_array2\u001b[0m \u001b[0;34m=\u001b[0m \u001b[0mnp\u001b[0m\u001b[0;34m.\u001b[0m\u001b[0mconcatenate\u001b[0m\u001b[0;34m(\u001b[0m\u001b[0;34m(\u001b[0m\u001b[0marray1\u001b[0m\u001b[0;34m,\u001b[0m \u001b[0marray2\u001b[0m\u001b[0;34m)\u001b[0m\u001b[0;34m,\u001b[0m \u001b[0maxis\u001b[0m \u001b[0;34m=\u001b[0m \u001b[0;36m1\u001b[0m\u001b[0;34m)\u001b[0m\u001b[0;34m\u001b[0m\u001b[0;34m\u001b[0m\u001b[0m\n\u001b[0m\u001b[1;32m     14\u001b[0m \u001b[0mprint\u001b[0m\u001b[0;34m(\u001b[0m\u001b[0;34m\"Concatenated array 2 along axis 0 (column-wise for 2-d arrays) is \\n\"\u001b[0m\u001b[0;34m,\u001b[0m \u001b[0mconcatenated_array1\u001b[0m\u001b[0;34m,\u001b[0m \u001b[0;34m\"with dimensions \"\u001b[0m\u001b[0;34m,\u001b[0m \u001b[0mconcatenated_array1\u001b[0m\u001b[0;34m.\u001b[0m\u001b[0mshape\u001b[0m\u001b[0;34m)\u001b[0m\u001b[0;34m\u001b[0m\u001b[0;34m\u001b[0m\u001b[0m\n",
            "\u001b[0;32m<__array_function__ internals>\u001b[0m in \u001b[0;36mconcatenate\u001b[0;34m(*args, **kwargs)\u001b[0m\n",
            "\u001b[0;31mValueError\u001b[0m: all the input array dimensions for the concatenation axis must match exactly, but along dimension 0, the array at index 0 has size 2 and the array at index 1 has size 1"
          ]
        }
      ]
    },
    {
      "cell_type": "code",
      "metadata": {
        "colab": {
          "base_uri": "https://localhost:8080/"
        },
        "id": "_dnrpzRvTLs1",
        "outputId": "e6ca3b02-585a-480b-bea7-aa9c347e8fe8"
      },
      "source": [
        "# Concatenating Numpy Arrays\n",
        "\n",
        "array1 = np.random.randint(3, size = (3, 4, 5))\n",
        "print(\"Array 1 is \\n\", array1, \" with dimensions \", array1.shape, \"\\n\")\n",
        "\n",
        "array2 = np.random.randint(4, size = (3, 4, 5))\n",
        "print(\"Array 2 is \\n\", array2, \" with dimensions \", array2.shape, \"\\n\")\n",
        "\n",
        "concatenated_array1 = np.concatenate((array1, array2), axis = 0) \n",
        "print(\"Concatenated array 1 is \\n\", concatenated_array1, \"\\n\\n\", \"and the dimensions of the concatenated array 1 are: \\n\", concatenated_array1.shape)\n",
        "\n",
        "concatenated_array2 = np.concatenate((array1, array2), axis = 1) \n",
        "print(\"Concatenated array 2 is \\n\", concatenated_array2, \"\\n\\n\", \"and the dimensions of the concatenated array 2 are: \\n\", concatenated_array2.shape)\n",
        "\n",
        "concatenated_array3 = np.concatenate((array1, array2), axis = 2) \n",
        "print(\"Concatenated array 3 is \\n\", concatenated_array3, \"\\n\\n\", \"and the dimensions of the concatenated array 3 are: \\n\", concatenated_array3.shape)\n"
      ],
      "execution_count": null,
      "outputs": [
        {
          "output_type": "stream",
          "text": [
            "Array 1 is \n",
            " [[[0 1 0 1 1]\n",
            "  [2 0 2 0 0]\n",
            "  [0 2 1 2 2]\n",
            "  [0 1 1 1 1]]\n",
            "\n",
            " [[0 1 0 0 1]\n",
            "  [2 0 2 0 1]\n",
            "  [1 2 0 1 1]\n",
            "  [1 0 2 0 2]]\n",
            "\n",
            " [[2 0 2 0 0]\n",
            "  [0 1 1 2 0]\n",
            "  [0 1 0 1 2]\n",
            "  [2 0 1 1 1]]]  with dimensions  (3, 4, 5) \n",
            "\n",
            "Array 2 is \n",
            " [[[1 3 2 3 3]\n",
            "  [2 2 3 0 2]\n",
            "  [3 1 0 1 2]\n",
            "  [0 3 0 2 0]]\n",
            "\n",
            " [[3 3 0 3 0]\n",
            "  [0 0 0 2 3]\n",
            "  [0 3 2 3 3]\n",
            "  [1 1 1 0 1]]\n",
            "\n",
            " [[1 1 3 0 3]\n",
            "  [1 2 0 1 2]\n",
            "  [0 2 0 1 3]\n",
            "  [2 2 1 0 3]]]  with dimensions  (3, 4, 5) \n",
            "\n",
            "Concatenated array 1 is \n",
            " [[[0 1 0 1 1]\n",
            "  [2 0 2 0 0]\n",
            "  [0 2 1 2 2]\n",
            "  [0 1 1 1 1]]\n",
            "\n",
            " [[0 1 0 0 1]\n",
            "  [2 0 2 0 1]\n",
            "  [1 2 0 1 1]\n",
            "  [1 0 2 0 2]]\n",
            "\n",
            " [[2 0 2 0 0]\n",
            "  [0 1 1 2 0]\n",
            "  [0 1 0 1 2]\n",
            "  [2 0 1 1 1]]\n",
            "\n",
            " [[1 3 2 3 3]\n",
            "  [2 2 3 0 2]\n",
            "  [3 1 0 1 2]\n",
            "  [0 3 0 2 0]]\n",
            "\n",
            " [[3 3 0 3 0]\n",
            "  [0 0 0 2 3]\n",
            "  [0 3 2 3 3]\n",
            "  [1 1 1 0 1]]\n",
            "\n",
            " [[1 1 3 0 3]\n",
            "  [1 2 0 1 2]\n",
            "  [0 2 0 1 3]\n",
            "  [2 2 1 0 3]]] \n",
            "\n",
            " and the dimensions of the concatenated array 1 are: \n",
            " (6, 4, 5)\n",
            "Concatenated array 2 is \n",
            " [[[0 1 0 1 1]\n",
            "  [2 0 2 0 0]\n",
            "  [0 2 1 2 2]\n",
            "  [0 1 1 1 1]\n",
            "  [1 3 2 3 3]\n",
            "  [2 2 3 0 2]\n",
            "  [3 1 0 1 2]\n",
            "  [0 3 0 2 0]]\n",
            "\n",
            " [[0 1 0 0 1]\n",
            "  [2 0 2 0 1]\n",
            "  [1 2 0 1 1]\n",
            "  [1 0 2 0 2]\n",
            "  [3 3 0 3 0]\n",
            "  [0 0 0 2 3]\n",
            "  [0 3 2 3 3]\n",
            "  [1 1 1 0 1]]\n",
            "\n",
            " [[2 0 2 0 0]\n",
            "  [0 1 1 2 0]\n",
            "  [0 1 0 1 2]\n",
            "  [2 0 1 1 1]\n",
            "  [1 1 3 0 3]\n",
            "  [1 2 0 1 2]\n",
            "  [0 2 0 1 3]\n",
            "  [2 2 1 0 3]]] \n",
            "\n",
            " and the dimensions of the concatenated array 2 are: \n",
            " (3, 8, 5)\n",
            "Concatenated array 3 is \n",
            " [[[0 1 0 1 1 1 3 2 3 3]\n",
            "  [2 0 2 0 0 2 2 3 0 2]\n",
            "  [0 2 1 2 2 3 1 0 1 2]\n",
            "  [0 1 1 1 1 0 3 0 2 0]]\n",
            "\n",
            " [[0 1 0 0 1 3 3 0 3 0]\n",
            "  [2 0 2 0 1 0 0 0 2 3]\n",
            "  [1 2 0 1 1 0 3 2 3 3]\n",
            "  [1 0 2 0 2 1 1 1 0 1]]\n",
            "\n",
            " [[2 0 2 0 0 1 1 3 0 3]\n",
            "  [0 1 1 2 0 1 2 0 1 2]\n",
            "  [0 1 0 1 2 0 2 0 1 3]\n",
            "  [2 0 1 1 1 2 2 1 0 3]]] \n",
            "\n",
            " and the dimensions of the concatenated array 3 are: \n",
            " (3, 4, 10)\n"
          ],
          "name": "stdout"
        }
      ]
    },
    {
      "cell_type": "markdown",
      "metadata": {
        "id": "tL8qvApgZDZi"
      },
      "source": [
        "### 5b. Stacking"
      ]
    },
    {
      "cell_type": "markdown",
      "metadata": {
        "id": "FgrcUuNCZY3J"
      },
      "source": [
        "The stack operation joins a sequence of arrays along a *new* axis. The axis parameter specifies the index of the new axis in the dimensions of the result. For example, if axis=0 it will be the first dimension and if axis=-1 it will be the last dimension. All arrays need to be of the same size.  The stacked array has one more dimension than the input arrays."
      ]
    },
    {
      "cell_type": "code",
      "metadata": {
        "colab": {
          "base_uri": "https://localhost:8080/"
        },
        "id": "8VnRi569ZbYr",
        "outputId": "7b34abab-0708-4701-d752-e6b2a3bb44d7"
      },
      "source": [
        "# Stacking 1-d Arrays\n",
        "\n",
        "array1 = np.array([1, 2, 3])\n",
        "print(\"Array 1 is \\n\", array1, \" with dimensions \", array1.shape, \"\\n\")\n",
        "\n",
        "array2 = np.array([4, 5, 6])\n",
        "print(\"Array 2 is \\n\", array2, \" with dimensions \", array2.shape, \"\\n\")\n",
        "\n",
        "\n",
        "stacked_array1 = np.stack((array1, array2), axis = 0)\n",
        "print(\"Stacked array 1 is \\n\", stacked_array1, \" with dimensions \", stacked_array1.shape)\n",
        "\n",
        "stacked_array2 = np.stack((array1, array2), axis = 1) \n",
        "print(\"Stacked array 2 is \\n\", stacked_array2, \" with dimensions \", stacked_array2.shape)\n",
        "\n",
        "stacked_array3 = np.stack((array1, array2), axis = -1) \n",
        "print(\"Stacked array 3 is \\n\", stacked_array3, \" with dimensions \", stacked_array3.shape)\n"
      ],
      "execution_count": null,
      "outputs": [
        {
          "output_type": "stream",
          "text": [
            "Array 1 is \n",
            " [1 2 3]  with dimensions  (3,) \n",
            "\n",
            "Array 2 is \n",
            " [4 5 6]  with dimensions  (3,) \n",
            "\n",
            "Stacked array 1 is \n",
            " [[1 2 3]\n",
            " [4 5 6]]  with dimensions  (2, 3)\n",
            "Stacked array 2 is \n",
            " [[1 4]\n",
            " [2 5]\n",
            " [3 6]]  with dimensions  (3, 2)\n",
            "Stacked array 3 is \n",
            " [[1 4]\n",
            " [2 5]\n",
            " [3 6]]  with dimensions  (3, 2)\n"
          ],
          "name": "stdout"
        }
      ]
    },
    {
      "cell_type": "code",
      "metadata": {
        "colab": {
          "base_uri": "https://localhost:8080/"
        },
        "id": "BWCGag2Kadlj",
        "outputId": "e6ee9895-afeb-4194-e40c-5b59ae48f4f8"
      },
      "source": [
        "\n",
        "# Stacking Numpy Arrays\n",
        "\n",
        "array1 = np.random.randint(3, size = (3, 4, 5))\n",
        "print(\"Array 1 has dimensions \", array1.shape, \"\\n\")\n",
        "\n",
        "array2 = np.random.randint(4, size = (3, 4, 5))\n",
        "print(\"Array 2 has dimensions \", array2.shape, \"\\n\")\n",
        "\n",
        "stacked_array1 = np.stack((array1, array2), axis = 0)\n",
        "print(\"Stacked array 1 has dimensions\", stacked_array1.shape, \"\\n\")\n",
        "\n",
        "stacked_array2 = np.stack((array1, array2), axis = 1) \n",
        "print(\"Stacked array 2 has dimensions\", stacked_array2.shape, \"\\n\")\n",
        "\n",
        "stacked_array3 = np.stack((array1, array2), axis = 2) \n",
        "print(\"Stacked array 3 has dimensions\", stacked_array3.shape, \"\\n\")\n",
        "\n",
        "stacked_array4 = np.stack((array1, array2), axis = -1)\n",
        "print(\"Stacked array 4 has dimensions\", stacked_array4.shape, \"\\n\")\n",
        "\n"
      ],
      "execution_count": null,
      "outputs": [
        {
          "output_type": "stream",
          "text": [
            "Array 1 has dimensions  (3, 4, 5) \n",
            "\n",
            "Array 2 has dimensions  (3, 4, 5) \n",
            "\n",
            "Stacked array 1 has dimensions (2, 3, 4, 5) \n",
            "\n",
            "Stacked array 2 has dimensions (3, 2, 4, 5) \n",
            "\n",
            "Stacked array 3 has dimensions (3, 4, 2, 5) \n",
            "\n",
            "Stacked array 4 has dimensions (3, 4, 5, 2) \n",
            "\n"
          ],
          "name": "stdout"
        }
      ]
    },
    {
      "cell_type": "markdown",
      "metadata": {
        "id": "8261iA_qa4vP"
      },
      "source": [
        "###5c. Repeat"
      ]
    },
    {
      "cell_type": "markdown",
      "metadata": {
        "id": "hhmrx2g2a-kW"
      },
      "source": [
        "The repeat operation repeats elements of an array. The number of repetitions for each element is broadcasted to fit the shape of the given axis. The axis parameter specifies along which axis to repeat values. By default, it uses the flattened input array, and return a flat output array."
      ]
    },
    {
      "cell_type": "code",
      "metadata": {
        "colab": {
          "base_uri": "https://localhost:8080/"
        },
        "id": "HROTjVJsa8cG",
        "outputId": "80c530e0-52a8-462b-84b1-31b624e27081"
      },
      "source": [
        "\n",
        "# Repeat in Numpy Arrays\n",
        "\n",
        "original_array = np.array([[1,2],[3,4]])\n",
        "print(\"Array is \\n\", original_array, \" with dimensions \", original_array.shape, \"\\n\")\n",
        "\n",
        "repeated_array1 = np.repeat(original_array, 2)\n",
        "print(\"Repeated array 1 is \\n\", repeated_array1, \"\\n\\n\", \"and the dimensions of the repeated array 1 are: \\n\", repeated_array1.shape, \"\\n\")\n",
        "\n",
        "repeated_array2 = np.repeat(original_array, 3, axis=0)\n",
        "print(\"Repeated array 2 is \\n\", repeated_array2, \"\\n\\n\", \"and the dimensions of the repeated array 2 are: \\n\", repeated_array2.shape, \"\\n\")\n",
        "\n",
        "repeated_array3 = np.repeat(original_array, 3, axis=1)\n",
        "print(\"Repeated array 3 is \\n\", repeated_array3, \"\\n\\n\", \"and the dimensions of the repeated array 3 are: \\n\", repeated_array3.shape, \"\\n\")\n",
        "\n",
        "repeated_array4 = np.repeat(original_array, [2,3], axis=0)\n",
        "print(\"Repeated array 4 is \\n\", repeated_array4, \"\\n\\n\", \"and the dimensions of the repeated array 4 are: \\n\", repeated_array4.shape, \"\\n\")\n"
      ],
      "execution_count": null,
      "outputs": [
        {
          "output_type": "stream",
          "text": [
            "Array is \n",
            " [[1 2]\n",
            " [3 4]]  with dimensions  (2, 2) \n",
            "\n",
            "Repeated array 1 is \n",
            " [1 1 2 2 3 3 4 4] \n",
            "\n",
            " and the dimensions of the repeated array 1 are: \n",
            " (8,) \n",
            "\n",
            "Repeated array 2 is \n",
            " [[1 2]\n",
            " [1 2]\n",
            " [1 2]\n",
            " [3 4]\n",
            " [3 4]\n",
            " [3 4]] \n",
            "\n",
            " and the dimensions of the repeated array 2 are: \n",
            " (6, 2) \n",
            "\n",
            "Repeated array 3 is \n",
            " [[1 1 1 2 2 2]\n",
            " [3 3 3 4 4 4]] \n",
            "\n",
            " and the dimensions of the repeated array 3 are: \n",
            " (2, 6) \n",
            "\n",
            "Repeated array 4 is \n",
            " [[1 2]\n",
            " [1 2]\n",
            " [3 4]\n",
            " [3 4]\n",
            " [3 4]] \n",
            "\n",
            " and the dimensions of the repeated array 4 are: \n",
            " (5, 2) \n",
            "\n"
          ],
          "name": "stdout"
        }
      ]
    },
    {
      "cell_type": "markdown",
      "metadata": {
        "id": "zOlZOF8r_AXO"
      },
      "source": [
        "# 6. Math operations"
      ]
    },
    {
      "cell_type": "markdown",
      "metadata": {
        "id": "Qu8ZLACkSvaU"
      },
      "source": [
        "In this section we will cover some commonly used mathematical operations\n",
        "1. Broadcasting\n",
        "1. Point-wise/element-wise operations\n",
        "1. Redution operations\n",
        "1. Comparison operations\n",
        "1. Vector/Matrix operations"
      ]
    },
    {
      "cell_type": "markdown",
      "metadata": {
        "id": "j1hTl9b4_Jre"
      },
      "source": [
        "## a. Broadcasting"
      ]
    },
    {
      "cell_type": "code",
      "metadata": {
        "id": "PbC7tpbM_DGV",
        "colab": {
          "base_uri": "https://localhost:8080/"
        },
        "outputId": "5d1799ce-2edd-475d-ecd1-5a295c1b6fbc"
      },
      "source": [
        "# Broadcasting b/w arrays of different dimensions\n",
        "# Note: When broadting two multi-dimensional tensors, match their corresponding dimensions beginning from the last dimension.\n",
        "# All dimensions should either match or one of the arrays should have length 1 in that specific dimension\n",
        "\n",
        "row_arr = np.random.rand(1,3)\n",
        "print(\"A row array: \\n\", row_arr, \" with dimensions \", row_arr.shape, \"\\n\")\n",
        "col_arr = np.random.rand(4,1)\n",
        "print(\"A column array: \\n\", col_arr, \" with dimensions \", col_arr.shape, \"\\n\")\n",
        "\n",
        "add_arr = row_arr + col_arr\n",
        "print(\"row array + column array = \")\n",
        "print(add_arr,\" with dimensions \", add_arr.shape, \"\\n\")\n",
        "mul_arr = row_arr * col_arr\n",
        "print(\"row array * column array = \")\n",
        "print(mul_arr,\" with dimensions \", mul_arr.shape, \"\\n\")\n"
      ],
      "execution_count": null,
      "outputs": [
        {
          "output_type": "stream",
          "text": [
            "A row array: \n",
            " [[0.94466892 0.52184832 0.41466194]]  with dimensions  (1, 3) \n",
            "\n",
            "A column array: \n",
            " [[0.26455561]\n",
            " [0.77423369]\n",
            " [0.45615033]\n",
            " [0.56843395]]  with dimensions  (4, 1) \n",
            "\n",
            "row array + column array = \n",
            "[[1.20922453 0.78640393 0.67921755]\n",
            " [1.71890261 1.29608201 1.18889563]\n",
            " [1.40081925 0.97799865 0.87081227]\n",
            " [1.51310287 1.09028227 0.98309589]]  with dimensions  (4, 3) \n",
            "\n",
            "row array * column array = \n",
            "[[0.24991746 0.1380579  0.10970114]\n",
            " [0.7313945  0.40403255 0.32104524]\n",
            " [0.43091104 0.23804129 0.18914818]\n",
            " [0.53698188 0.2966363  0.23570792]]  with dimensions  (4, 3) \n",
            "\n"
          ],
          "name": "stdout"
        }
      ]
    },
    {
      "cell_type": "markdown",
      "metadata": {
        "id": "AnNUVLDg_Y0Y"
      },
      "source": [
        "## b.Element-wise operations"
      ]
    },
    {
      "cell_type": "code",
      "metadata": {
        "id": "miu5scYG_b7I",
        "colab": {
          "base_uri": "https://localhost:8080/"
        },
        "outputId": "5ba392d2-0692-4e31-988b-961c0fd82d77"
      },
      "source": [
        "rand_arr_1 = np.random.rand(2,3)\n",
        "print(\"A random array1 : \\n\", rand_arr_1, \" with dimensions \", rand_arr_1.shape, \"\\n\")\n",
        "rand_arr_2 = np.random.rand(2,3)\n",
        "print(\"A random array2 : \\n\", rand_arr_2, \" with dimensions \", rand_arr_2.shape, \"\\n\")\n",
        "scalar = 5.0\n",
        "\n",
        "# Addition with Scalars\n",
        "new_arr_1 = rand_arr_1 + scalar\n",
        "print(\"random array1 + 5.0 =\")\n",
        "print(new_arr_1, \"\\n\")\n",
        "\n",
        "# Multiplication with Scalars\n",
        "new_arr_2 = rand_arr_1 * scalar\n",
        "print(\"random array1 * 5.0 =\")\n",
        "print(new_arr_2, \"\\n\")\n",
        "\n",
        "# Elementwise Addition of Arrays\n",
        "new_arr_3 = rand_arr_1 + rand_arr_2\n",
        "print(\"random array1 + random array2 =\")\n",
        "print(new_arr_3, \"\\n\")\n",
        "\n",
        "# Elementwise Multiplication of Arrays aka Hadmard Product\n",
        "new_arr_4 = rand_arr_1 * rand_arr_2\n",
        "print(\"random array1 * random array2 =\")\n",
        "print(new_arr_4, \"\\n\") # also equivalent to np.multiply(array1, array2)\n",
        "\n",
        "# Absolute value\n",
        "new_arr_5 = np.abs(-10*rand_arr_1)\n",
        "print(\"abs (-10 * random array1) =\")\n",
        "print(new_arr_5, \"\\n\")\n",
        "\n",
        "# Square root value\n",
        "new_arr_6 = np.sqrt(rand_arr_1)\n",
        "print('sqrt(random array1) = \\n', new_arr_6, \"\\n\")"
      ],
      "execution_count": null,
      "outputs": [
        {
          "output_type": "stream",
          "text": [
            "A random array1 : \n",
            " [[0.0187898  0.6176355  0.61209572]\n",
            " [0.616934   0.94374808 0.6818203 ]]  with dimensions  (2, 3) \n",
            "\n",
            "A random array2 : \n",
            " [[0.3595079  0.43703195 0.6976312 ]\n",
            " [0.06022547 0.66676672 0.67063787]]  with dimensions  (2, 3) \n",
            "\n",
            "random array1 + 5.0 =\n",
            "[[5.0187898  5.6176355  5.61209572]\n",
            " [5.616934   5.94374808 5.6818203 ]] \n",
            "\n",
            "random array1 * 5.0 =\n",
            "[[0.093949   3.08817749 3.06047861]\n",
            " [3.08466998 4.71874039 3.4091015 ]] \n",
            "\n",
            "random array1 + random array2 =\n",
            "[[0.3782977  1.05466745 1.30972692]\n",
            " [0.67715947 1.61051479 1.35245817]] \n",
            "\n",
            "random array1 * random array2 =\n",
            "[[0.00675508 0.26992645 0.42701707]\n",
            " [0.03715514 0.62925981 0.45725451]] \n",
            "\n",
            "abs (-10 * random array1) =\n",
            "[[0.187898   6.17635497 6.12095723]\n",
            " [6.16933997 9.43748079 6.81820299]] \n",
            "\n",
            "sqrt(random array1) = \n",
            " [[0.13707589 0.78589789 0.78236547]\n",
            " [0.78545146 0.97146697 0.82572411]] \n",
            "\n"
          ],
          "name": "stdout"
        }
      ]
    },
    {
      "cell_type": "markdown",
      "metadata": {
        "id": "YE_Gl8fd_wxc"
      },
      "source": [
        "## c.Reduction"
      ]
    },
    {
      "cell_type": "code",
      "metadata": {
        "id": "2BEc2arl_y3Z",
        "colab": {
          "base_uri": "https://localhost:8080/"
        },
        "outputId": "faa025e8-1f9c-476c-911e-166f678342f3"
      },
      "source": [
        "rand_arr = np.random.rand(2,3)\n",
        "print('random array: \\n', rand_arr, \"\\n\")\n",
        "\n",
        "max_val = np.max(rand_arr)\n",
        "print('Maximum value of array \\n', max_val, \"\\n\")\n",
        "min_val = np.min(rand_arr)\n",
        "print('Minimum value of array \\n', min_val, \"\\n\")\n",
        "\n",
        "sum_val = np.sum(rand_arr)\n",
        "print('Sum of array \\n', sum_val, \"\\n\")\n",
        "max_idx = np.argmax(rand_arr, axis=0)\n",
        "print('Maximum value\\'s index of array along axis 0 \\n', max_idx, \"\\n\")\n",
        "min_idx = np.argmin(rand_arr, axis=1)\n",
        "print('Minimum value\\'s index of array along axis 1 \\n', min_idx, \"\\n\")\n",
        "\n",
        "mean_val = np.mean(rand_arr)\n",
        "print('Mean value of array \\n', mean_val, \"\\n\")\n",
        "std_val = np.std(rand_arr)\n",
        "print('Standard deviation value of array \\n', std_val, \"\\n\")\n",
        "norm_val = np.linalg.norm(rand_arr)\n",
        "print('Norm value of array \\n', norm_val, \"\\n\")"
      ],
      "execution_count": null,
      "outputs": [
        {
          "output_type": "stream",
          "text": [
            "random array: \n",
            " [[0.21038256 0.1289263  0.31542835]\n",
            " [0.36371077 0.57019677 0.43860151]] \n",
            "\n",
            "Maximum value of array \n",
            " 0.5701967704178796 \n",
            "\n",
            "Minimum value of array \n",
            " 0.1289262976548533 \n",
            "\n",
            "Sum of array \n",
            " 2.0272462644757008 \n",
            "\n",
            "Maximum value's index of array along axis 0 \n",
            " [1 1 1] \n",
            "\n",
            "Minimum value's index of array along axis 1 \n",
            " [1 0] \n",
            "\n",
            "Mean value of array \n",
            " 0.3378743774126168 \n",
            "\n",
            "Standard deviation value of array \n",
            " 0.14445556227437842 \n",
            "\n",
            "Norm value of array \n",
            " 0.9000883436106821 \n",
            "\n"
          ],
          "name": "stdout"
        }
      ]
    },
    {
      "cell_type": "markdown",
      "metadata": {
        "id": "7dX2TV-DANcv"
      },
      "source": [
        "## d.Comparision"
      ]
    },
    {
      "cell_type": "code",
      "metadata": {
        "id": "_WknmTBnAPV0",
        "colab": {
          "base_uri": "https://localhost:8080/"
        },
        "outputId": "b9509364-08d5-4743-e78f-43ce01bd4cb2"
      },
      "source": [
        "rand_arr_1 = np.random.rand(2,3)\n",
        "print('random array1: \\n', rand_arr_1, '\\n')\n",
        "rand_arr_2 = np.random.rand(2,3)\n",
        "print('random array2: \\n', rand_arr_2, '\\n')\n",
        "\n",
        "# Element-wise Comparison Operations\n",
        "greater_compare = rand_arr_1 > rand_arr_2\n",
        "print('random array1 > random array2')\n",
        "print(greater_compare, '\\n')\n",
        "\n",
        "less_compare = rand_arr_1 < rand_arr_2\n",
        "print('random array1 < random array2')\n",
        "print(less_compare, '\\n')\n",
        "\n",
        "not_equal_compare = rand_arr_1 != rand_arr_2\n",
        "print('random array1 != random array2')\n",
        "print(not_equal_compare, '\\n')\n",
        "\n",
        "# Combining reduction operations with boolean arrays\n",
        "print(\"any values for random array1 > random array2:\")\n",
        "print((rand_arr_1 > rand_arr_2).any(), \"\\n\")\n",
        "\n",
        "print(\"all values for random array1 > random array2:\")\n",
        "print((rand_arr_1 > rand_arr_2).all(), \"\\n\")\n",
        "\n",
        "print(\"any values along first axis for random array1 > random array2:\")\n",
        "print((rand_arr_1 > rand_arr_2).any(axis=0), \"\\n\")\n",
        "\n",
        "print(\"any values along second axis for random array1 > random array2:\")\n",
        "print((rand_arr_1 > rand_arr_2).any(axis=1), \"\\n\")\n",
        "\n",
        "print(\"any values for random array1 != random array2:\")\n",
        "print((rand_arr_1 != rand_arr_2).any(), \"\\n\")\n",
        "\n",
        "print(\"all values for random array1 != random array2:\")\n",
        "print((rand_arr_1 != rand_arr_2).all(), \"\\n\")"
      ],
      "execution_count": null,
      "outputs": [
        {
          "output_type": "stream",
          "text": [
            "random array1: \n",
            " [[0.98837384 0.10204481 0.20887676]\n",
            " [0.16130952 0.65310833 0.2532916 ]] \n",
            "\n",
            "random array2: \n",
            " [[0.46631077 0.24442559 0.15896958]\n",
            " [0.11037514 0.65632959 0.13818295]] \n",
            "\n",
            "random array1 > random array2\n",
            "[[ True False  True]\n",
            " [ True False  True]] \n",
            "\n",
            "random array1 < random array2\n",
            "[[False  True False]\n",
            " [False  True False]] \n",
            "\n",
            "random array1 != random array2\n",
            "[[ True  True  True]\n",
            " [ True  True  True]] \n",
            "\n",
            "any values for random array1 > random array2:\n",
            "True \n",
            "\n",
            "all values for random array1 > random array2:\n",
            "False \n",
            "\n",
            "any values along first axis for random array1 > random array2:\n",
            "[ True False  True] \n",
            "\n",
            "any values along second axis for random array1 > random array2:\n",
            "[ True  True] \n",
            "\n",
            "any values for random array1 != random array2:\n",
            "True \n",
            "\n",
            "all values for random array1 != random array2:\n",
            "True \n",
            "\n"
          ],
          "name": "stdout"
        }
      ]
    },
    {
      "cell_type": "markdown",
      "metadata": {
        "id": "eKQLWKRaAW2_"
      },
      "source": [
        "## e.Vector/Matrix operations"
      ]
    },
    {
      "cell_type": "code",
      "metadata": {
        "colab": {
          "base_uri": "https://localhost:8080/"
        },
        "id": "TLVtVbbvXUor",
        "outputId": "eddb40bb-3f97-462c-a7da-aec605ae2d5c"
      },
      "source": [
        "# Vector x Vector\n",
        "array1 = np.random.randn(3)\n",
        "array2 = np.random.randn(3)\n",
        "\n",
        "print('Array1 \\n', array1, 'with dimension ', array1.shape, '\\n')\n",
        "print('Array2 \\n', array2, 'with dimension ', array2.shape, '\\n')\n",
        "\n",
        "matmul_arr = np.matmul(array1, array2)\n",
        "another_arr = array1@array2\n",
        "print('Matmul of the two arrays can be derived by using np.matmul(array1, array2) \\n', matmul_arr)\n",
        "print(\"Matmul of the two arrays can also be derived by using array1@array2 \\n\", another_arr)\n",
        "print('Dimensions of resulting product: \\n', matmul_arr.shape)\n",
        "\n",
        "# Matrix x Vector\n",
        "array3 = np.random.randn(3, 4)\n",
        "array4 = np.random.randn(4)\n",
        "\n",
        "print('Array3 \\n', array3, 'with dimension ', array3.shape, '\\n')\n",
        "print('Array4 \\n', array4, 'with dimension ', array4.shape, '\\n')\n",
        "\n",
        "matmul_arr = np.matmul(array3, array4)\n",
        "another_arr = array3@array4\n",
        "print('Matmul of a vector and a matrix can be derived by using np.matmul(array3, array4) \\n', matmul_arr)\n",
        "print('Matmul of a vector and a matrix can also be derived by using array3@array4 \\n', another_arr)\n",
        "print('Dimensions of resulting product: \\n', matmul_arr.shape)\n",
        "\n",
        "# Matrix x Matrix \n",
        "\n",
        "matrix1 = np.random.randint(4, size = (2, 3))\n",
        "matrix2 = np.random.randint(4, size = (3, 2))\n",
        "\n",
        "print('Matrix1 \\n', matrix1, 'with dimension ', matrix1.shape, '\\n')\n",
        "print('Matrix2 \\n', matrix2, 'with dimension ', matrix2.shape, '\\n')\n",
        "\n",
        "matmul_mat = np.matmul(matrix1, matrix2)\n",
        "print('Matmul of two matrices can be derived by using np.matmul(matrix1, matrix2) \\n', matmul_mat)\n",
        "print('Dimensions of resulting product: \\n', matmul_mat.shape, \"\\n\")"
      ],
      "execution_count": null,
      "outputs": [
        {
          "output_type": "stream",
          "text": [
            "Array1 \n",
            " [-0.51080514 -1.18063218 -0.02818223] with dimension  (3,) \n",
            "\n",
            "Array2 \n",
            " [0.42833187 0.06651722 0.3024719 ] with dimension  (3,) \n",
            "\n",
            "Matmul of the two arrays can be derived by using np.matmul(array1, array2) \n",
            " -0.3058508256835472\n",
            "Matmul of the two arrays can also be derived by using array1@array2 \n",
            " -0.3058508256835472\n",
            "Dimensions of resulting product: \n",
            " ()\n",
            "Array3 \n",
            " [[-0.63432209 -0.36274117 -0.67246045 -0.35955316]\n",
            " [-0.81314628 -1.7262826   0.17742614 -0.40178094]\n",
            " [-1.63019835  0.46278226 -0.90729836  0.0519454 ]] with dimension  (3, 4) \n",
            "\n",
            "Array4 \n",
            " [ 0.72909056  0.12898291  1.13940068 -1.23482582] with dimension  (4,) \n",
            "\n",
            "Matmul of a vector and a matrix can be derived by using np.matmul(array3, array4) \n",
            " [-0.83148203 -0.11722929 -2.22679112]\n",
            "Matmul of a vector and a matrix can also be derived by using array3@array4 \n",
            " [-0.83148203 -0.11722929 -2.22679112]\n",
            "Dimensions of resulting product: \n",
            " (3,)\n",
            "Matrix1 \n",
            " [[3 0 0]\n",
            " [2 0 2]] with dimension  (2, 3) \n",
            "\n",
            "Matrix2 \n",
            " [[3 2]\n",
            " [2 3]\n",
            " [0 0]] with dimension  (3, 2) \n",
            "\n",
            "Matmul of two matrices can be derived by using np.matmul(matrix1, matrix2) \n",
            " [[9 6]\n",
            " [6 4]]\n",
            "Dimensions of resulting product: \n",
            " (2, 2) \n",
            "\n"
          ],
          "name": "stdout"
        }
      ]
    },
    {
      "cell_type": "code",
      "metadata": {
        "id": "FUfwyTPiAbC7",
        "colab": {
          "base_uri": "https://localhost:8080/"
        },
        "outputId": "fa793c3a-c4aa-4526-8138-b712047955a9"
      },
      "source": [
        "rand_mat_1 = np.random.rand(4,2)\n",
        "rand_mat_2 = np.random.rand(2,3)\n",
        "print('Matrix1 \\n', rand_mat_1, 'with dimension ', rand_mat_1.shape, '\\n')\n",
        "print('Matrix2 \\n', rand_mat_2, 'with dimension ', rand_mat_2.shape, '\\n')\n",
        "\n",
        "# dot product\n",
        "dot_mat = np.dot(rand_mat_1, rand_mat_2)\n",
        "another_mat = rand_mat_1@rand_mat_2\n",
        "print('Dot product of two matrices can be derived by using np.dot(mat1, mat2) \\n', dot_mat)\n",
        "print('Dot product of two matrices can also be derived by using mat1@mat2 \\n', another_mat)\n",
        "print('Dimensions of resulting product: \\n', dot_mat.shape)\n",
        "\n",
        "a = np.ones([9, 5, 7, 4])\n",
        "b = np.ones([9, 5, 4, 3])\n",
        "print('array1 \\'s dimension ', a.shape, '\\n')\n",
        "print('array2 \\'s dimension ', b.shape, '\\n')\n",
        "\n",
        "# matmul with multi-dimenstion arrays\n",
        "c = np.matmul(a,b)\n",
        "print('Matmul of two multi-dimension arrays can be derived by using np.matmul(array1, array2) \\n')\n",
        "print('Dimensions of resulting product: \\n', c.shape)"
      ],
      "execution_count": null,
      "outputs": [
        {
          "output_type": "stream",
          "text": [
            "Matrix1 \n",
            " [[0.82894003 0.00469548]\n",
            " [0.67781654 0.27000797]\n",
            " [0.73519402 0.96218855]\n",
            " [0.24875314 0.57615733]] with dimension  (4, 2) \n",
            "\n",
            "Matrix2 \n",
            " [[0.59204193 0.57225191 0.22308163]\n",
            " [0.95274901 0.44712538 0.84640867]] with dimension  (2, 3) \n",
            "\n",
            "Dot product of two matrices can be derived by using np.dot(mat1, mat2) \n",
            " [[0.49524087 0.47646198 0.18889559]\n",
            " [0.65854564 0.50860922 0.37974551]\n",
            " [1.35198987 0.8509351  0.97841301]\n",
            " [0.69620562 0.39996403 0.54315682]]\n",
            "Dot product of two matrices can also be derived by using mat1@mat2 \n",
            " [[0.49524087 0.47646198 0.18889559]\n",
            " [0.65854564 0.50860922 0.37974551]\n",
            " [1.35198987 0.8509351  0.97841301]\n",
            " [0.69620562 0.39996403 0.54315682]]\n",
            "Dimensions of resulting product: \n",
            " (4, 3)\n",
            "array1 's dimension  (9, 5, 7, 4) \n",
            "\n",
            "array2 's dimension  (9, 5, 4, 3) \n",
            "\n",
            "Matmul of two multi-dimension arrays can be derived by using np.matmul(array1, array2) \n",
            "\n",
            "Dimensions of resulting product: \n",
            " (9, 5, 7, 3)\n"
          ],
          "name": "stdout"
        }
      ]
    },
    {
      "cell_type": "markdown",
      "metadata": {
        "id": "xkoAAwWVam3U"
      },
      "source": [
        "###Tensordot\n",
        "\n",
        "Understanding tensordot function will help you in writing succint code for your homeworks especially in Convolutional Neural Net assignment.\n",
        "\n",
        "To give a brief overview: \n",
        "We input the arrays and the respective axes along which the sum-reductions are intended. The axes that take part in sum-reduction are removed in the output and all of the remaining axes from the input arrays are spread-out as different axes in the output keeping the order in which the input arrays are fed.\n",
        "\n",
        "To understand in depth please checkout: https://stackoverflow.com/questions/41870228/understanding-tensordot"
      ]
    },
    {
      "cell_type": "code",
      "metadata": {
        "colab": {
          "base_uri": "https://localhost:8080/"
        },
        "id": "uksWAaQxarn1",
        "outputId": "6e935738-2296-417e-8355-c99ec37de081"
      },
      "source": [
        "a = np.arange(60.).reshape(3,4,5)\n",
        "b = np.arange(24.).reshape(4,3,2)\n",
        "print('A \\'s dimension ', a.shape, '\\n')\n",
        "print('B \\'s dimension ', b.shape, '\\n')\n",
        "\n",
        "# compute tensor dot product along specified axes.\n",
        "c = np.tensordot(a,b, axes=([1,0],[0,1]))\n",
        "print(\"A⨂B =\\n\", c, ' with dimension', c.shape, '\\n')\n",
        "\n",
        "# this equals to \n",
        "d = np.zeros((5,2))\n",
        "for i in range(5):\n",
        "  for j in range(2):\n",
        "    for k in range(3):\n",
        "      for n in range(4):\n",
        "        d[i,j] += a[k,n,i] * b[n,k,j]\n",
        "print(\"tensor dot is equal to sum over certain dimensions.\\n\")\n",
        "print(c==d)"
      ],
      "execution_count": null,
      "outputs": [
        {
          "output_type": "stream",
          "text": [
            "A 's dimension  (3, 4, 5) \n",
            "\n",
            "B 's dimension  (4, 3, 2) \n",
            "\n",
            "A⨂B =\n",
            " [[4400. 4730.]\n",
            " [4532. 4874.]\n",
            " [4664. 5018.]\n",
            " [4796. 5162.]\n",
            " [4928. 5306.]]  with dimension (5, 2) \n",
            "\n",
            "tensor dot is equal to sum over certain dimensions.\n",
            "\n",
            "[[ True  True]\n",
            " [ True  True]\n",
            " [ True  True]\n",
            " [ True  True]\n",
            " [ True  True]]\n"
          ],
          "name": "stdout"
        }
      ]
    }
  ]
}