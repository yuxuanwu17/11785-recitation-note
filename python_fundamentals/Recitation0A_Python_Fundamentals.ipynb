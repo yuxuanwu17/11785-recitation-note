{
 "cells": [
  {
   "cell_type": "markdown",
   "metadata": {
    "id": "9fF0fMGYyvGK"
   },
   "source": [
    "# **Python Fundamentals**"
   ]
  },
  {
   "cell_type": "markdown",
   "metadata": {
    "id": "Sogw6xzY_o6F"
   },
   "source": [
    "**Objective**\n",
    "\n",
    "- To help students get familiar with Python fundamentals.\n",
    "\n",
    "**Outline**\n",
    "1. Data Types\n",
    "1. Conditional statements and loops\n",
    "1. Saving and Loading Files"
   ]
  },
  {
   "cell_type": "markdown",
   "metadata": {
    "id": "qkt6dEnVdAvl"
   },
   "source": [
    "## **1 Data Types**\n",
    "\n",
    "Built-in data types in Python include:\n",
    "1. Numeric types - int, float, complex\n",
    "1. Sequence types - list, tuple, range\n",
    "1. Set types - set, frozenset\n",
    "1. Mapping type - dict\n",
    "1. Text sequence type - str\n",
    "\n",
    ".... and many others\n",
    "\n",
    "Reference: [Python Official Documentation](https://docs.python.org/3/library/stdtypes.html)"
   ]
  },
  {
   "cell_type": "markdown",
   "metadata": {
    "id": "8rjYluh9iCbP"
   },
   "source": [
    "### **1.1 Numeric types**"
   ]
  },
  {
   "cell_type": "markdown",
   "metadata": {
    "id": "sm8IWWieimqX"
   },
   "source": [
    "#### **int**\n",
    "Int corresponds to integers and it is generally not used while training models since weights and biases have to be precise and not approximations"
   ]
  },
  {
   "cell_type": "code",
   "execution_count": 1,
   "metadata": {
    "colab": {
     "base_uri": "https://localhost:8080/"
    },
    "id": "9cuJSFldsrFr",
    "outputId": "fcd5f36e-5387-497e-8cc0-df92275576e7"
   },
   "outputs": [
    {
     "name": "stdout",
     "output_type": "stream",
     "text": [
      "Integer equivalent of float number: 2\n",
      "Note: int function floors the decimal/ float value\n",
      "You can do various mathematical operations with int variables such as addition(+), subtraction (-), division (/), multiplication (*), floored quotient (//), remainder (%), etc.\n",
      "You can try these yourselves as an exercise\n"
     ]
    }
   ],
   "source": [
    "# assigning an int value to a variable\n",
    "\n",
    "intVar = 1\n",
    "\n",
    "# converting float to int\n",
    "\n",
    "floatVar = 2.5\n",
    "convVar = int(floatVar)\n",
    "\n",
    "print(\"Integer equivalent of float number: \"+str(convVar))\n",
    "print(\"Note: int function floors the decimal/ float value\")\n",
    "print(\"You can do various mathematical operations with int variables such as addition(+), subtraction (-), division (/), multiplication (*), floored quotient (//), remainder (%), etc.\")\n",
    "print(\"You can try these yourselves as an exercise\")"
   ]
  },
  {
   "cell_type": "markdown",
   "metadata": {
    "id": "87id1PEhmKSr"
   },
   "source": [
    "#### **float**\n",
    "\n",
    "Float corresponds to floating point numbers which can be of different precisions ex. float16, float32 etc."
   ]
  },
  {
   "cell_type": "code",
   "execution_count": 2,
   "metadata": {
    "colab": {
     "base_uri": "https://localhost:8080/"
    },
    "id": "5GXabWnw03gx",
    "outputId": "ca0786e1-36f3-45f7-d8d5-ed501f1783c8"
   },
   "outputs": [
    {
     "name": "stdout",
     "output_type": "stream",
     "text": [
      "The result of dividing 15 by 7.5 is: 2.0\n",
      "float64\n",
      "<class 'numpy.float64'>\n",
      "float32\n",
      "<class 'numpy.float32'>\n",
      "--------------------------------------------------------------------------------------------------------------------------------------------------------------------------------------------------\n",
      "Original number is: 7.336\n",
      "Rounded float number is: 7\n",
      "Number rounded upto 2 decimals is: 7.34\n",
      "Result after floor operation: 7\n",
      "Result after ceiling operation: 8\n"
     ]
    }
   ],
   "source": [
    "# basics\n",
    "\n",
    "floatNum = 7.5\n",
    "\n",
    "# remember: any artihmetic operation between int and float makes the result a float\n",
    "\n",
    "result = 15/floatNum\n",
    "print(\"The result of dividing 15 by 7.5 is: \"+str(result))\n",
    "\n",
    "# converting from float64 to float32\n",
    "# Note: this can be useful when higher precision is not required and reducing precision decreases training time\n",
    "# More important note: Reducing precision also reduces accuracy (:\n",
    "\n",
    "# don't worry if you aren't familiar with the below code, Numpy will be covered in another recitation\n",
    "import numpy as np\n",
    "import math\n",
    "\n",
    "f64 = np.zeros(10,dtype=\"float64\") \n",
    "print(f64.dtype) # use dtype to find the type of an array/ column in df\n",
    "print(type(f64[0]))\n",
    "f32 = np.float32(f64)\n",
    "print(f32.dtype)\n",
    "print(type(f32[0]))\n",
    "\n",
    "# some additional operations with float type\n",
    "\n",
    "print('-'*194)\n",
    "# rounding numbers\n",
    "fNum = 7.336\n",
    "rfNum = round(fNum)\n",
    "rf_2 = round(fNum,2)\n",
    "print(\"Original number is: \"+str(fNum))\n",
    "print(\"Rounded float number is: \"+str(rfNum))\n",
    "print(\"Number rounded upto 2 decimals is: \"+str(rf_2))\n",
    "\n",
    "# floor and ceiling\n",
    "floorNum = math.floor(fNum)\n",
    "ceilNum = math.ceil(fNum)\n",
    "print(\"Result after floor operation: \"+str(floorNum))\n",
    "print(\"Result after ceiling operation: \"+str(ceilNum))"
   ]
  },
  {
   "cell_type": "markdown",
   "metadata": {
    "id": "liTjZBYaK2WM"
   },
   "source": [
    "### **1.2 Sequence types**"
   ]
  },
  {
   "cell_type": "markdown",
   "metadata": {
    "id": "K6823IOseuQA"
   },
   "source": [
    "#### **Lists**\n",
    "\n",
    "Lists are mutable sequences that are mostly used to store items of the same type but they can also store heterogenous items.\n",
    "\n",
    "List items can store duplicate values and the items can be indexed (zero-indexed)"
   ]
  },
  {
   "cell_type": "code",
   "execution_count": 3,
   "metadata": {
    "colab": {
     "base_uri": "https://localhost:8080/"
    },
    "id": "XWv4pNgfhU9Y",
    "outputId": "ca43b55a-d9ad-485e-d3de-c3f747d656e5"
   },
   "outputs": [
    {
     "name": "stdout",
     "output_type": "stream",
     "text": [
      "[1, 2, 3, 4, 5, 5]\n",
      "[1, 2, 3, 'a', 'a', 'b']\n",
      "5\n",
      "a\n"
     ]
    }
   ],
   "source": [
    "# Construction using square brackets\n",
    "similar_items = [1, 2, 3, 4, 5, 5]\n",
    "different_items = [1, 2, 3, 'a', 'a', 'b']\n",
    "\n",
    "# print list items\n",
    "print(similar_items)\n",
    "print(different_items)\n",
    "\n",
    "# get item at index 4\n",
    "print(similar_items[4])\n",
    "print(different_items[4])"
   ]
  },
  {
   "cell_type": "code",
   "execution_count": 4,
   "metadata": {
    "colab": {
     "base_uri": "https://localhost:8080/"
    },
    "id": "ft4B1VvwihlY",
    "outputId": "5b53e0dc-a7a5-48e4-a6e8-7110bee78e85"
   },
   "outputs": [
    {
     "name": "stdout",
     "output_type": "stream",
     "text": [
      "[0, 1, 2, 3, 4]\n",
      "[5, 6, 7, 8, 9]\n",
      "[0, 1, 2, 3, 4, 5, 6, 7, 8, 9]\n"
     ]
    }
   ],
   "source": [
    "# Construction using list comprehension\n",
    "first_five = [i for i in range(5)]\n",
    "print(first_five)\n",
    "\n",
    "last_five = [i for i in range(5, 10)]\n",
    "print(last_five)\n",
    "\n",
    "# append tweets\n",
    "all_data = first_five + last_five\n",
    "print(all_data)\n"
   ]
  },
  {
   "cell_type": "markdown",
   "metadata": {
    "id": "PokV1ckGk5R8"
   },
   "source": [
    "#### **Tuples**\n",
    "\n",
    "Tuple are ordered and unchangeable/immutable (new items can't be added to it). \n",
    "\n",
    "Tuples can store duplicate items. \n",
    "\n"
   ]
  },
  {
   "cell_type": "code",
   "execution_count": 5,
   "metadata": {
    "colab": {
     "base_uri": "https://localhost:8080/"
    },
    "id": "Px2IdiAKtva0",
    "outputId": "920a912e-6a67-46f8-a960-46b815484d93"
   },
   "outputs": [
    {
     "name": "stdout",
     "output_type": "stream",
     "text": [
      "(1, 2, 3)\n",
      "(1, 2, 3, 'four')\n",
      "1\n",
      "3\n"
     ]
    }
   ],
   "source": [
    "similar_items = (1, 2, 3)\n",
    "different_items = (1, 2, 3, \"four\")\n",
    "\n",
    "print(similar_items)\n",
    "print(different_items)\n",
    "\n",
    "# indexing is similar to lists\n",
    "\n",
    "print(similar_items[0])\n",
    "print(different_items[-2]) # negative indexing starts from the end of the list/ tuple"
   ]
  },
  {
   "cell_type": "markdown",
   "metadata": {
    "id": "4RtskBVXM2ub"
   },
   "source": [
    "#### **Range**\n",
    "\n",
    "Range is a very important function for iteration and it is immutable"
   ]
  },
  {
   "cell_type": "code",
   "execution_count": 6,
   "metadata": {
    "colab": {
     "base_uri": "https://localhost:8080/"
    },
    "id": "Dj8JSkE6TzAr",
    "outputId": "245d17fb-6cce-4ab0-c3ca-e4ff1373e929"
   },
   "outputs": [
    {
     "name": "stdout",
     "output_type": "stream",
     "text": [
      "Range with stop number and default step\n",
      "[0, 1, 2, 3, 4, 5, 6, 7, 8, 9]\n",
      "Note: The iterator does not stop at the number specified\n",
      "Range with start, stop and step 2\n",
      "[0, 2, 4, 6, 8, 10]\n",
      "Reverse direction with negative step size\n",
      "[10, 8, 6, 4, 2]\n"
     ]
    }
   ],
   "source": [
    "# simple range iterator\n",
    "\n",
    "print(\"Range with stop number and default step\")\n",
    "print(list(range(10)))\n",
    "print(\"Note: The iterator does not stop at the number specified\")\n",
    "\n",
    "print(\"Range with start, stop and step 2\")\n",
    "print(list(range(0,12,2)))\n",
    "\n",
    "print(\"Reverse direction with negative step size\")\n",
    "print(list(range(10,0,-2)))"
   ]
  },
  {
   "cell_type": "markdown",
   "metadata": {
    "id": "zLwfItmzzCzn"
   },
   "source": [
    "### **1.3 Set types**\n",
    "\n",
    "Sets are mutable and they store unordered and unindexed data.\n",
    "\n",
    "They can not store duplicate items.\n",
    "\n",
    "**Frozen sets** are immutable and hashable but they will not be covered in this recitation."
   ]
  },
  {
   "cell_type": "code",
   "execution_count": 7,
   "metadata": {
    "colab": {
     "base_uri": "https://localhost:8080/"
    },
    "id": "4HaeOlWdzEvR",
    "outputId": "e94f3b9d-f20c-4d4b-a054-d0d75811eecb"
   },
   "outputs": [
    {
     "name": "stdout",
     "output_type": "stream",
     "text": [
      "{1, 2, 3}\n",
      "{'one', 'three', 'two'}\n"
     ]
    }
   ],
   "source": [
    "set1 = {1, 2, 3, 1, 2}\n",
    "print(set1)\n",
    "\n",
    "set2 = {'one', 'two', 'three', 'one', 'two'}\n",
    "print(set2)"
   ]
  },
  {
   "cell_type": "markdown",
   "metadata": {
    "id": "pExgsNMlexkx"
   },
   "source": [
    "### **1.4 Mapping type**\n",
    "\n"
   ]
  },
  {
   "cell_type": "markdown",
   "metadata": {
    "id": "yykE-HH6MtE6"
   },
   "source": [
    "#### **Dictionary**\n",
    "\n",
    "Stores items in key-value pairs. Keys must be unique, hence duplicates can't be stored.\n",
    "\n",
    "From Python 3.7 dictionary items are ordered."
   ]
  },
  {
   "cell_type": "markdown",
   "metadata": {
    "id": "XBxr9swwlUHt"
   },
   "source": [
    "**Different ways of constructing dictionaries**"
   ]
  },
  {
   "cell_type": "code",
   "execution_count": 8,
   "metadata": {
    "colab": {
     "base_uri": "https://localhost:8080/"
    },
    "id": "T8rqlfZ8j_fU",
    "outputId": "6b2de867-83c4-48ad-ff5e-a0866ab92273"
   },
   "outputs": [
    {
     "name": "stdout",
     "output_type": "stream",
     "text": [
      "{'one': 1, 'two': 2, 'three': 3}\n",
      "{'one': 1, 'two': 2, 'three': 3}\n",
      "{'one': 1, 'two': 2, 'three': 3}\n",
      "{'two': 2, 'three': 3, 'one': 1}\n"
     ]
    }
   ],
   "source": [
    "# comma-separated key-value pairs\n",
    "dict1 = {'one': 1, 'two': 2, 'three': 3}\n",
    "print(dict1)\n",
    "\n",
    "dict2 = dict(one=1, two=2, three=3)\n",
    "print(dict2)\n",
    "\n",
    "# using zip function\n",
    "dict3 = dict(zip(['one', 'two', 'three'], [1, 2, 3]))\n",
    "print(dict3)\n",
    "\n",
    "# using tuples in a list\n",
    "dict4 = dict([('two', 2), ('three', 3), ('one', 1),])\n",
    "print(dict4)"
   ]
  },
  {
   "cell_type": "markdown",
   "metadata": {
    "id": "mXFWScINl7TW"
   },
   "source": [
    "**Dictionary operations**"
   ]
  },
  {
   "cell_type": "code",
   "execution_count": 9,
   "metadata": {
    "colab": {
     "base_uri": "https://localhost:8080/"
    },
    "id": "Zv_va_3Fl-Jx",
    "outputId": "92c823cd-0a87-43e4-ad9a-88101317a16a"
   },
   "outputs": [
    {
     "name": "stdout",
     "output_type": "stream",
     "text": [
      "Different ways of getting items\n",
      "1\n",
      "1\n",
      "number 4 does not exist\n",
      "\n",
      "Store new item\n",
      "{'one': 1, 'two': 2, 'three': 3, 'four': 4}\n",
      "4\n"
     ]
    }
   ],
   "source": [
    "# get item\n",
    "print('Different ways of getting items')\n",
    "\n",
    "print(dict1['one'])\n",
    "print(dict1.get('one'))\n",
    "print(dict1.get(\"four\", \"number 4 does not exist\"))\n",
    "\n",
    "# save new item\n",
    "print('\\nStore new item')\n",
    "\n",
    "dict1['four'] = 4\n",
    "print(dict1)\n",
    "print(dict1.get(\"four\", \"number 4 does not exist\"))\n"
   ]
  },
  {
   "cell_type": "markdown",
   "metadata": {
    "id": "XBrQICatEyEC"
   },
   "source": [
    "## **2 Conditional statements and loops**"
   ]
  },
  {
   "cell_type": "markdown",
   "metadata": {
    "id": "0h57Js-TTgK0"
   },
   "source": [
    "### **2. 1 Conditional statements**\n",
    "\n",
    "They enable you to perform specific actions based on the boolean value returned by a condition\n",
    "\n",
    "They can be implemented using if-statements"
   ]
  },
  {
   "cell_type": "markdown",
   "metadata": {
    "id": "ld3ypUbVVAQ8"
   },
   "source": [
    "**If statements**"
   ]
  },
  {
   "cell_type": "code",
   "execution_count": 10,
   "metadata": {
    "colab": {
     "base_uri": "https://localhost:8080/"
    },
    "id": "c0Lk9qSyKjUg",
    "outputId": "cfeee529-4973-4f36-a07a-2f1f002dcdce"
   },
   "outputs": [
    {
     "name": "stdout",
     "output_type": "stream",
     "text": [
      " x is less than y\n"
     ]
    }
   ],
   "source": [
    "x, y = 1, 2\n",
    "\n",
    "if x > y:\n",
    "  print('x is greater than y')\n",
    "elif x < y:\n",
    "  print(' x is less than y')\n",
    "else:\n",
    "  print('x is equal than y')"
   ]
  },
  {
   "cell_type": "markdown",
   "metadata": {
    "id": "KP6dB_IQVD_N"
   },
   "source": [
    "### **2.2 Loops**\n",
    "\n",
    "Loops are helpful when you need to iterate over a sequence. A sequence can be a list, a tuple, a dictionary, a set or even a range of numbers.\n",
    "\n",
    "They can be implemented using for or while loops\n",
    "\n"
   ]
  },
  {
   "cell_type": "code",
   "execution_count": 11,
   "metadata": {
    "colab": {
     "base_uri": "https://localhost:8080/"
    },
    "id": "WUyHZd7SXUEY",
    "outputId": "64d7db5e-e555-4623-a05c-3f38120b2344"
   },
   "outputs": [
    {
     "name": "stdout",
     "output_type": "stream",
     "text": [
      "one\n",
      "two\n",
      "three\n",
      "four\n",
      "five\n"
     ]
    }
   ],
   "source": [
    "# Iterate through a sequence\n",
    "\n",
    "numbers = ['one', 'two', 'three', 'four', 'five']\n",
    "\n",
    "for n in numbers:\n",
    "  print(n)\n"
   ]
  },
  {
   "cell_type": "code",
   "execution_count": 12,
   "metadata": {
    "colab": {
     "base_uri": "https://localhost:8080/"
    },
    "id": "yHtrmKcJXjTx",
    "outputId": "dbf6b607-6728-4c7a-f397-42d9e829fdca"
   },
   "outputs": [
    {
     "name": "stdout",
     "output_type": "stream",
     "text": [
      "Iterate through numbers 0-4\n",
      "0\n",
      "1\n",
      "2\n",
      "3\n",
      "4\n",
      "Iterate through numbers 1-5\n",
      "1\n",
      "2\n",
      "3\n",
      "4\n",
      "5\n"
     ]
    }
   ],
   "source": [
    "# Iterate through a range of numbers\n",
    "\n",
    "print('Iterate through numbers 0-4')\n",
    "for i in range(5):\n",
    "  print(i)\n",
    "\n",
    "print('Iterate through numbers 1-5')\n",
    "for i in range(1, 6):\n",
    "  print(i)"
   ]
  },
  {
   "cell_type": "markdown",
   "metadata": {
    "id": "JcB5rcUdX_UB"
   },
   "source": [
    "**While loop**\n",
    "\n",
    "Used to iterate through statements as long as the condition being checked is true"
   ]
  },
  {
   "cell_type": "code",
   "execution_count": 13,
   "metadata": {
    "colab": {
     "base_uri": "https://localhost:8080/"
    },
    "id": "Q_lGzZlvX-zu",
    "outputId": "bbf46c76-f789-4f55-e475-119e193d1bf2"
   },
   "outputs": [
    {
     "name": "stdout",
     "output_type": "stream",
     "text": [
      "2\n",
      "4\n",
      "6\n",
      "8\n",
      "10\n",
      "Final value is  10\n"
     ]
    }
   ],
   "source": [
    "x = 0\n",
    "\n",
    "while x < 10:\n",
    "  x = x + 2\n",
    "  print(x)\n",
    "\n",
    "print('Final value is ', x)"
   ]
  },
  {
   "cell_type": "markdown",
   "metadata": {
    "id": "3VAnQX_ndImk"
   },
   "source": [
    "## **3. Saving and Loading Files**"
   ]
  },
  {
   "cell_type": "markdown",
   "metadata": {
    "id": "boFjg0areRKx"
   },
   "source": [
    "### **3.1 Save Data to CSV**"
   ]
  },
  {
   "cell_type": "code",
   "execution_count": 14,
   "metadata": {
    "id": "bGdf8mx46QDP"
   },
   "outputs": [],
   "source": [
    "# Method 1\n",
    "\n",
    "import csv\n",
    "\n",
    "fields = ['No', 'Name']\n",
    "  \n",
    "students = [\n",
    "{'No': 1, 'Name': 'Jane Doe'},\n",
    "{'No': 2, 'Name': 'John Doe'},\n",
    "]\n",
    "\n",
    "with open('students.csv', 'w') as csv_file:\n",
    "  writer = csv.DictWriter(csv_file, fieldnames = fields)\n",
    "  writer.writeheader()\n",
    "  writer.writerows(students)\n",
    "\n",
    "# Method 2: Save dictionary as csv using pandas\n",
    "\n",
    "import pandas as pd\n",
    "\n",
    "studentDict = {'No': [1,2,3],\n",
    "               'Name': ['Sheila Mbadi', 'Jane Doe', 'John Doe']}\n",
    "\n",
    "studentDf = pd.DataFrame(studentDict)\n",
    "studentDf.to_csv('students_2.csv', index=None) #Imp: index=None is important before making submissions to Kaggle"
   ]
  },
  {
   "cell_type": "markdown",
   "metadata": {
    "id": "RMhekrMZeVrD"
   },
   "source": [
    "### **3.2 Load CSV Data**"
   ]
  },
  {
   "cell_type": "code",
   "execution_count": 15,
   "metadata": {
    "colab": {
     "base_uri": "https://localhost:8080/",
     "height": 110
    },
    "id": "E-NzoKORdC_Y",
    "outputId": "10601e46-0ed6-4b2a-fa4d-96fba7d12a7b"
   },
   "outputs": [
    {
     "data": {
      "text/html": [
       "<div>\n",
       "<style scoped>\n",
       "    .dataframe tbody tr th:only-of-type {\n",
       "        vertical-align: middle;\n",
       "    }\n",
       "\n",
       "    .dataframe tbody tr th {\n",
       "        vertical-align: top;\n",
       "    }\n",
       "\n",
       "    .dataframe thead th {\n",
       "        text-align: right;\n",
       "    }\n",
       "</style>\n",
       "<table border=\"1\" class=\"dataframe\">\n",
       "  <thead>\n",
       "    <tr style=\"text-align: right;\">\n",
       "      <th></th>\n",
       "      <th>No</th>\n",
       "      <th>Name</th>\n",
       "    </tr>\n",
       "  </thead>\n",
       "  <tbody>\n",
       "    <tr>\n",
       "      <th>0</th>\n",
       "      <td>1</td>\n",
       "      <td>Jane Doe</td>\n",
       "    </tr>\n",
       "    <tr>\n",
       "      <th>1</th>\n",
       "      <td>2</td>\n",
       "      <td>John Doe</td>\n",
       "    </tr>\n",
       "  </tbody>\n",
       "</table>\n",
       "</div>"
      ],
      "text/plain": [
       "   No      Name\n",
       "0   1  Jane Doe\n",
       "1   2  John Doe"
      ]
     },
     "execution_count": 15,
     "metadata": {},
     "output_type": "execute_result"
    }
   ],
   "source": [
    "import pandas as pd\n",
    "\n",
    "data = pd.read_csv('students.csv')\n",
    "data"
   ]
  },
  {
   "cell_type": "code",
   "execution_count": null,
   "metadata": {
    "id": "wcTNSmxNGwOz"
   },
   "outputs": [],
   "source": []
  }
 ],
 "metadata": {
  "colab": {
   "collapsed_sections": [],
   "name": "Recitation0A_Python_Fundamentals.ipynb",
   "provenance": [],
   "toc_visible": true
  },
  "kernelspec": {
   "display_name": "Python 3",
   "language": "python",
   "name": "python3"
  },
  "language_info": {
   "codemirror_mode": {
    "name": "ipython",
    "version": 3
   },
   "file_extension": ".py",
   "mimetype": "text/x-python",
   "name": "python",
   "nbconvert_exporter": "python",
   "pygments_lexer": "ipython3",
   "version": "3.8.3"
  }
 },
 "nbformat": 4,
 "nbformat_minor": 4
}
